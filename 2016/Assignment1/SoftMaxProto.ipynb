{
 "cells": [
  {
   "cell_type": "code",
   "execution_count": 1,
   "metadata": {
    "collapsed": false
   },
   "outputs": [],
   "source": [
    "import random\n",
    "import numpy as np\n",
    "import matplotlib.pyplot as plt\n",
    "from IPython.display import clear_output\n",
    "from cs231n.data_utils import load_CIFAR10\n",
    "%matplotlib inline\n",
    "plt.rcParams['figure.figsize'] = (10.0, 8.0) # set default size of plots\n",
    "plt.rcParams['image.interpolation'] = 'nearest'\n",
    "plt.rcParams['image.cmap'] = 'gray'\n",
    "\n",
    "# for auto-reloading extenrnal modules\n",
    "# see http://stackoverflow.com/questions/1907993/autoreload-of-modules-in-ipython\n",
    "%load_ext autoreload\n",
    "%autoreload 2"
   ]
  },
  {
   "cell_type": "code",
   "execution_count": 2,
   "metadata": {
    "collapsed": false
   },
   "outputs": [
    {
     "name": "stdout",
     "output_type": "stream",
     "text": [
      "Train data shape:  (49000, 3073)\n",
      "Train labels shape:  (49000,)\n",
      "Validation data shape:  (1000, 3073)\n",
      "Validation labels shape:  (1000,)\n",
      "Test data shape:  (1000, 3073)\n",
      "Test labels shape:  (1000,)\n",
      "dev data shape:  (500, 3073)\n",
      "dev labels shape:  (500,)\n"
     ]
    }
   ],
   "source": [
    "def get_CIFAR10_data(num_training=49000, num_validation=1000, num_test=1000, num_dev=500):\n",
    "    \n",
    "    \"\"\"\n",
    "    Load the CIFAR-10 dataset from disk and perform preprocessing to prepare\n",
    "    it for the linear classifier. These are the same steps as we used for the\n",
    "    SVM, but condensed to a single function.  \n",
    "    \"\"\"\n",
    "    # Load the raw CIFAR-10 data\n",
    "    cifar10_dir = 'cs231n/datasets/cifar-10-batches-py'\n",
    "    X_train, y_train, X_test, y_test = load_CIFAR10(cifar10_dir)\n",
    "\n",
    "    # subsample the data\n",
    "    mask = range(num_training, num_training + num_validation)\n",
    "    X_val = X_train[mask]\n",
    "    y_val = y_train[mask]\n",
    "    mask = range(num_training)\n",
    "    X_train = X_train[mask]\n",
    "    y_train = y_train[mask]\n",
    "    mask = range(num_test)\n",
    "    X_test = X_test[mask]\n",
    "    y_test = y_test[mask]\n",
    "    mask = np.random.choice(num_training, num_dev, replace=False)\n",
    "    X_dev = X_train[mask]\n",
    "    y_dev = y_train[mask]\n",
    "\n",
    "    # Preprocessing: reshape the image data into rows\n",
    "    X_train = np.reshape(X_train, (X_train.shape[0], -1))\n",
    "    X_val = np.reshape(X_val, (X_val.shape[0], -1))\n",
    "    X_test = np.reshape(X_test, (X_test.shape[0], -1))\n",
    "    X_dev = np.reshape(X_dev, (X_dev.shape[0], -1))\n",
    "\n",
    "    # Normalize the data: subtract the mean image\n",
    "    mean_image = np.mean(X_train, axis = 0)\n",
    "    X_train -= mean_image\n",
    "    X_val -= mean_image\n",
    "    X_test -= mean_image\n",
    "    X_dev -= mean_image\n",
    "\n",
    "    # add bias dimension and transform into columns\n",
    "    X_train = np.hstack([X_train, np.ones((X_train.shape[0], 1))])\n",
    "    X_val = np.hstack([X_val, np.ones((X_val.shape[0], 1))])\n",
    "    X_test = np.hstack([X_test, np.ones((X_test.shape[0], 1))])\n",
    "    X_dev = np.hstack([X_dev, np.ones((X_dev.shape[0], 1))])\n",
    "\n",
    "    return X_train, y_train, X_val, y_val, X_test, y_test, X_dev, y_dev\n",
    "\n",
    "\n",
    "# Invoke the above function to get our data.\n",
    "X_train, y_train, X_val, y_val, X_test, y_test, X_dev, y_dev = get_CIFAR10_data()\n",
    "\n",
    "print 'Train data shape: ', X_train.shape\n",
    "print 'Train labels shape: ', y_train.shape\n",
    "print 'Validation data shape: ', X_val.shape\n",
    "print 'Validation labels shape: ', y_val.shape\n",
    "print 'Test data shape: ', X_test.shape\n",
    "print 'Test labels shape: ', y_test.shape\n",
    "print 'dev data shape: ', X_dev.shape\n",
    "print 'dev labels shape: ', y_dev.shape"
   ]
  },
  {
   "cell_type": "markdown",
   "metadata": {},
   "source": [
    "<h1><center> Vectorized Softmax </center></h1>"
   ]
  },
  {
   "cell_type": "code",
   "execution_count": 3,
   "metadata": {
    "collapsed": false
   },
   "outputs": [
    {
     "name": "stdout",
     "output_type": "stream",
     "text": [
      "Weights Matrix Shape :  (3073, 10)\n"
     ]
    }
   ],
   "source": [
    "## Randomly initialising a weight matrix of shape (3073,10).\n",
    "W = np.random.randn(3073, 10) * 0.0001\n",
    "print 'Weights Matrix Shape : ', W.shape"
   ]
  },
  {
   "cell_type": "code",
   "execution_count": 4,
   "metadata": {
    "collapsed": false
   },
   "outputs": [
    {
     "name": "stdout",
     "output_type": "stream",
     "text": [
      "Raw Scores Matrix Shape :  (500, 10)\n"
     ]
    }
   ],
   "source": [
    "## Computing the raw scores or performing the linear mathematical operation Wx + b.\n",
    "scores = X_dev.dot(W)\n",
    "print 'Raw Scores Matrix Shape : ', scores.shape"
   ]
  },
  {
   "cell_type": "code",
   "execution_count": 5,
   "metadata": {
    "collapsed": false
   },
   "outputs": [],
   "source": [
    "## Normalise the raw scores to avoid exponential score blow-up.\n",
    "## To do so, subtract the maximum score from each score value for each image.\n",
    "expScores = np.exp(scores - np.max(scores, axis = 1, keepdims = True))\n",
    "\n",
    "## Compute the probabilities (or softmax scores) of each class.\n",
    "softmaxScores = expScores/np.sum(expScores, axis = 1, keepdims = True)"
   ]
  },
  {
   "cell_type": "code",
   "execution_count": 6,
   "metadata": {
    "collapsed": false
   },
   "outputs": [],
   "source": [
    "## Creating a 1-D matrix containing the softmax score of the correct class.\n",
    "corrSoftScore = np.choose(y_dev, softmaxScores.T)"
   ]
  },
  {
   "cell_type": "code",
   "execution_count": 7,
   "metadata": {
    "collapsed": false
   },
   "outputs": [],
   "source": [
    "## Computing the cross-entropy loss.\n",
    "loss = -np.sum(np.log(corrSoftScore), axis = 0, keepdims = True)"
   ]
  },
  {
   "cell_type": "code",
   "execution_count": 8,
   "metadata": {
    "collapsed": false
   },
   "outputs": [
    {
     "data": {
      "text/plain": [
       "array([[ -2.65248087e+00,   7.12894356e-01,   1.94097841e-01, ...,\n",
       "          1.77945060e+00,  -8.80867114e-01,  -4.96769947e+00],\n",
       "       [ -3.70659854e+00,   1.18530696e+00,   1.01148681e-01, ...,\n",
       "          8.90939910e-01,  -1.85701988e+00,  -5.43101914e+00],\n",
       "       [ -5.50411560e+00,   1.18004350e+00,   7.25357844e-01, ...,\n",
       "          1.16776482e+00,  -3.49751995e+00,  -6.77117904e+00],\n",
       "       ..., \n",
       "       [ -1.33043570e+00,   7.20431146e-01,   3.02391793e-01, ...,\n",
       "         -7.52522978e-01,   2.19324805e+00,  -1.38864516e+00],\n",
       "       [ -2.37606838e+00,   2.69552322e-01,   8.33697046e-01, ...,\n",
       "          4.92608758e-01,   4.69409191e-01,  -1.58037107e+00],\n",
       "       [  3.75702408e-03,   1.04273182e-02,   5.12071035e-03, ...,\n",
       "         -1.68357177e-02,   1.64161617e-02,   1.01501768e-02]])"
      ]
     },
     "execution_count": 8,
     "metadata": {},
     "output_type": "execute_result"
    }
   ],
   "source": [
    "dW = np.zeros_like(W)\n",
    "\n",
    "## Initialising dO to softmaxScores.\n",
    "dO = softmaxScores\n",
    "\n",
    "## Computing dL/dO.\n",
    "dO[np.arange(500), y_dev] -= 1\n",
    "\n",
    "## Computing dL/dW with the help of chain rule.\n",
    "dW = X_dev.T.dot(dO)\n",
    "\n",
    "## Dividing by the number of training instances.\n",
    "dW /= 500\n",
    "\n",
    "dW"
   ]
  },
  {
   "cell_type": "markdown",
   "metadata": {},
   "source": [
    "<h1><center> Naive Softmax </center></h1>"
   ]
  },
  {
   "cell_type": "code",
   "execution_count": 9,
   "metadata": {
    "collapsed": false
   },
   "outputs": [
    {
     "name": "stdout",
     "output_type": "stream",
     "text": [
      "Weights Matrix Shape :  (3073, 10)\n"
     ]
    }
   ],
   "source": [
    "## Randomly initialising a weight matrix of shape (3073,10).\n",
    "W = np.random.randn(3073, 10) * 0.0001\n",
    "print 'Weights Matrix Shape : ', W.shape"
   ]
  },
  {
   "cell_type": "code",
   "execution_count": 10,
   "metadata": {
    "collapsed": false
   },
   "outputs": [
    {
     "name": "stdout",
     "output_type": "stream",
     "text": [
      "10.2277599727\n"
     ]
    }
   ],
   "source": [
    "## Initialising the gradients matrix.\n",
    "dW = np.zeros_like(W)\n",
    "\n",
    "## Initialising the gradients matrix of the logits i.e. Wx+b.\n",
    "dO = np.zeros_like(scores)\n",
    "\n",
    "## Initialising loss to zero.\n",
    "loss = 0.0\n",
    "\n",
    "## Computing number of training instances.\n",
    "numTrain = X_dev.shape[0]\n",
    "\n",
    "## Computing the number of classes.\n",
    "numClasses = W.shape[1]\n",
    "\n",
    "# for i in range(0, numTrain):\n",
    "for i in range(0, 5):\n",
    "     \n",
    "    ## Computing the raw scores for each image.\n",
    "    imgScoreMat = X_dev[i].dot(W)\n",
    "    \n",
    "    ## Finding the maximum class score in above array.\n",
    "    maxClsScore = np.max(imgScoreMat)\n",
    "    \n",
    "    ## Normalise the raw scores to avoid exponential score blow-up.\n",
    "    ## To do so, subtract the maximum score from each score value for each image.\n",
    "    normScoreMat = imgScoreMat - maxClsScore\n",
    "    \n",
    "    ## Exponentiate the normalised class scores.\n",
    "    expScoreMat = np.exp(normScoreMat)\n",
    "    \n",
    "    ## Computing the sum of all the exponentiated scores.\n",
    "    expScoresSum = np.sum(expScoreMat, axis = 0, keepdims = True)\n",
    "        \n",
    "    ## Compute the probabilities (or softmax scores) of each class.\n",
    "    imgSoftmaxScores = expScoreMat/expScoresSum\n",
    " \n",
    "    ## Finding the softmax score for the correct class.\n",
    "    corrSoftScore = imgSoftmaxScores[y_dev[i]]\n",
    "    \n",
    "    ## Computing the loss for the particular image.\n",
    "    loss = loss + -np.log(corrSoftScore/np.sum(imgSoftmaxScores))\n",
    "    \n",
    "    ## Updating the gradients wrt the logits.\n",
    "    for j in range(0, numClasses):\n",
    "\n",
    "        if (j == y_dev[i]):\n",
    "\n",
    "            dO = imgSoftmaxScores[j] - 1\n",
    "\n",
    "        else:\n",
    "\n",
    "            dO = imgSoftmaxScores[j]\n",
    "        \n",
    "        ## Updating the gradients wrt the weights.\n",
    "        dW[:,j] += dO * X_dev[i]\n",
    "    \n",
    "          \n",
    "print loss"
   ]
  },
  {
   "cell_type": "markdown",
   "metadata": {
    "collapsed": true
   },
   "source": [
    "<h1><center> Tuning HyperParameters </center></h1>"
   ]
  },
  {
   "cell_type": "code",
   "execution_count": 11,
   "metadata": {
    "collapsed": true
   },
   "outputs": [],
   "source": [
    "from cs231n.classifiers import Softmax"
   ]
  },
  {
   "cell_type": "code",
   "execution_count": 27,
   "metadata": {
    "collapsed": false
   },
   "outputs": [],
   "source": [
    "results = {}\n",
    "best_val = -1\n",
    "best_softmax = None\n",
    "# learning_rates = [1e-7, 5e-7]\n",
    "# regularization_strengths = [5e4, 1e8]\n",
    "learning_rates = [2.8e-6, 1e-7]\n",
    "regularization_strengths = [1e+03, 5e4]\n",
    "\n",
    "\n",
    "\n",
    "## Converting the learning rate and regularization strenghts list into numpy arrays.\n",
    "learning_rates = np.array(learning_rates)\n",
    "regularization_strengths = np.array(regularization_strengths)\n",
    "\n",
    "## Creating a grid search array which contains the different hyperparameter combinations.\n",
    "gridArray = np.array(np.meshgrid(learning_rates, regularization_strengths)).T.reshape(4, 2)"
   ]
  },
  {
   "cell_type": "code",
   "execution_count": 28,
   "metadata": {
    "collapsed": false
   },
   "outputs": [
    {
     "name": "stdout",
     "output_type": "stream",
     "text": [
      "Validation Accuracy :  0.36\n",
      "Validation Accuracy :  0.376\n",
      "Validation Accuracy :  0.214\n",
      "Validation Accuracy :  0.23\n",
      "lr 1.000000e-07 reg 1.000000e+03 train accuracy: 0.231531 val accuracy: 0.214000\n",
      "lr 1.000000e-07 reg 5.000000e+04 train accuracy: 0.228286 val accuracy: 0.230000\n",
      "lr 2.800000e-06 reg 1.000000e+03 train accuracy: 0.374204 val accuracy: 0.360000\n",
      "lr 2.800000e-06 reg 5.000000e+04 train accuracy: 0.392551 val accuracy: 0.376000\n",
      "best validation accuracy achieved during cross-validation: 0.376000\n"
     ]
    }
   ],
   "source": [
    "## Iterating over each hyperparameter combination.\n",
    "for i in range(gridArray.shape[0]):\n",
    "    \n",
    "    ## Setting the learning rate and the regularisation strength.\n",
    "    learning_rate = gridArray[i][0]\n",
    "    regularization_strength = gridArray[i][1]\n",
    "    \n",
    "    ## Instantiating the model.\n",
    "    softmaxModel = Softmax()\n",
    "    \n",
    "    ## Training the model on the training data.\n",
    "    softmaxModel.train(X_train, y_train, learningRate = learning_rate, reg = regularization_strength, numIters = 1000)\n",
    "    \n",
    "    ## Training Predictions.\n",
    "    yPredTrain = softmaxModel.predict(X_train)\n",
    "    \n",
    "    ## Validation Predictions.\n",
    "    yPredValidation = softmaxModel.predict(X_val)\n",
    "    \n",
    "    ## Computing training accuracy.\n",
    "    trainAccuracy = np.mean(yPredTrain == y_train)\n",
    "    \n",
    "    ## Computing validation accuracy.\n",
    "    validationAccuracy = np.mean(yPredValidation == y_val)\n",
    "    \n",
    "    ## Comparing the current validation accuracy with the previous one.\n",
    "    if (validationAccuracy > best_val):\n",
    "        \n",
    "        best_val = validationAccuracy\n",
    "        best_softmax = softmaxModel\n",
    "        \n",
    "    results[learning_rate, regularization_strength] = (trainAccuracy, validationAccuracy)\n",
    "    \n",
    "    print \"Validation Accuracy : \", validationAccuracy\n",
    "    \n",
    "    \n",
    "# Print out results.\n",
    "for lr, reg in sorted(results):\n",
    "    train_accuracy, val_accuracy = results[(lr, reg)]\n",
    "    print 'lr %e reg %e train accuracy: %f val accuracy: %f' % (\n",
    "                lr, reg, train_accuracy, val_accuracy)\n",
    "    \n",
    "print 'best validation accuracy achieved during cross-validation: %f' % best_val"
   ]
  }
 ],
 "metadata": {
  "kernelspec": {
   "display_name": "Python 2",
   "language": "python",
   "name": "python2"
  },
  "language_info": {
   "codemirror_mode": {
    "name": "ipython",
    "version": 2
   },
   "file_extension": ".py",
   "mimetype": "text/x-python",
   "name": "python",
   "nbconvert_exporter": "python",
   "pygments_lexer": "ipython2",
   "version": "2.7.10"
  }
 },
 "nbformat": 4,
 "nbformat_minor": 0
}
