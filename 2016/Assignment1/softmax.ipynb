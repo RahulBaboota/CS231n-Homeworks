{
 "cells": [
  {
   "cell_type": "markdown",
   "metadata": {},
   "source": [
    "# Softmax exercise\n",
    "\n",
    "*Complete and hand in this completed worksheet (including its outputs and any supporting code outside of the worksheet) with your assignment submission. For more details see the [assignments page](http://vision.stanford.edu/teaching/cs231n/assignments.html) on the course website.*\n",
    "\n",
    "This exercise is analogous to the SVM exercise. You will:\n",
    "\n",
    "- implement a fully-vectorized **loss function** for the Softmax classifier\n",
    "- implement the fully-vectorized expression for its **analytic gradient**\n",
    "- **check your implementation** with numerical gradient\n",
    "- use a validation set to **tune the learning rate and regularization** strength\n",
    "- **optimize** the loss function with **SGD**\n",
    "- **visualize** the final learned weights\n"
   ]
  },
  {
   "cell_type": "code",
   "execution_count": 1,
   "metadata": {},
   "outputs": [],
   "source": [
    "import random\n",
    "import numpy as np\n",
    "import matplotlib.pyplot as plt\n",
    "from cs231n.data_utils import load_CIFAR10\n",
    "%matplotlib inline\n",
    "plt.rcParams['image.cmap'] = 'gray'\n",
    "plt.rcParams['figure.figsize'] = (10.0, 8.0) \n",
    "plt.rcParams['image.interpolation'] = 'nearest'\n",
    "\n",
    "# for auto-reloading extenrnal modules\n",
    "# see http://stackoverflow.com/questions/1907993/autoreload-of-modules-in-ipython\n",
    "%load_ext autoreload\n",
    "%autoreload 2"
   ]
  },
  {
   "cell_type": "code",
   "execution_count": 2,
   "metadata": {},
   "outputs": [
    {
     "name": "stdout",
     "output_type": "stream",
     "text": [
      "Train data shape:  (49000, 3073)\n",
      "Train labels shape:  (49000,)\n",
      "Validation data shape:  (1000, 3073)\n",
      "Validation labels shape:  (1000,)\n",
      "Test data shape:  (1000, 3073)\n",
      "Test labels shape:  (1000,)\n",
      "dev data shape:  (500, 3073)\n",
      "dev labels shape:  (500,)\n"
     ]
    }
   ],
   "source": [
    "def getCIFAR10Data(numTraining = 49000, numValidation = 1000, numTest = 1000, numDev = 500):\n",
    "    \"\"\"\n",
    "    Load the CIFAR-10 dataset from disk and perform preprocessing to prepare\n",
    "    it for the linear classifier. These are the same steps as we used for the\n",
    "    SVM, but condensed to a single function.  \n",
    "    \"\"\"\n",
    "    # Load the raw CIFAR-10 data\n",
    "    cifar10Dir = 'cs231n/datasets/cifar-10-batches-py'\n",
    "    XTrain, yTrain, XTest, yTest = load_CIFAR10(cifar10Dir)\n",
    "\n",
    "    # subsample the data\n",
    "    mask = range(numTraining, numTraining + numValidation)\n",
    "    XVal = XTrain[mask]\n",
    "    yVal = yTrain[mask]\n",
    "    mask = range(numTraining)\n",
    "    XTrain = XTrain[mask]\n",
    "    yTrain = yTrain[mask]\n",
    "    mask = range(numTest)\n",
    "    XTest = XTest[mask]\n",
    "    yTest = yTest[mask]\n",
    "    mask = np.random.choice(numTraining, numDev, replace = False)\n",
    "    XDev = XTrain[mask]\n",
    "    yDev = yTrain[mask]\n",
    "\n",
    "    # Preprocessing: reshape the image data into rows\n",
    "    XTrain = np.reshape(XTrain, (XTrain.shape[0], -1))\n",
    "    XVal = np.reshape(XVal, (XVal.shape[0], -1))\n",
    "    XTest = np.reshape(XTest, (XTest.shape[0], -1))\n",
    "    XDev = np.reshape(XDev, (XDev.shape[0], -1))\n",
    "\n",
    "    # Normalize the data: subtract the mean image\n",
    "    meanImage = np.mean(XTrain, axis = 0)\n",
    "    XTrain -= meanImage\n",
    "    XVal -= meanImage\n",
    "    XTest -= meanImage\n",
    "    XDev -= meanImage\n",
    "\n",
    "    # add bias dimension and transform into columns\n",
    "    XTrain = np.hstack([XTrain, np.ones((XTrain.shape[0], 1))])\n",
    "    XVal = np.hstack([XVal, np.ones((XVal.shape[0], 1))])\n",
    "    XTest = np.hstack([XTest, np.ones((XTest.shape[0], 1))])\n",
    "    XDev = np.hstack([XDev, np.ones((XDev.shape[0], 1))])\n",
    "\n",
    "    return XTrain, yTrain, XVal, yVal, XTest, yTest, XDev, yDev\n",
    "\n",
    "\n",
    "# Invoke the above function to get our data.\n",
    "XTrain, yTrain, XVal, yVal, XTest, yTest, XDev, yDev = getCIFAR10Data()\n",
    "print 'Train data shape: ', XTrain.shape\n",
    "print 'Train labels shape: ', yTrain.shape\n",
    "print 'Validation data shape: ', XVal.shape\n",
    "print 'Validation labels shape: ', yVal.shape\n",
    "print 'Test data shape: ', XTest.shape\n",
    "print 'Test labels shape: ', yTest.shape\n",
    "print 'dev data shape: ', XDev.shape\n",
    "print 'dev labels shape: ', yDev.shape"
   ]
  },
  {
   "cell_type": "markdown",
   "metadata": {},
   "source": [
    "## Softmax Classifier\n",
    "\n",
    "Your code for this section will all be written inside **cs231n/classifiers/softmax.py**. \n"
   ]
  },
  {
   "cell_type": "code",
   "execution_count": 3,
   "metadata": {},
   "outputs": [
    {
     "name": "stdout",
     "output_type": "stream",
     "text": [
      "loss: 2.312610\n",
      "sanity check: 2.302585\n"
     ]
    }
   ],
   "source": [
    "# First implement the naive softmax loss function with nested loops.\n",
    "# Open the file cs231n/classifiers/softmax.py and implement the\n",
    "# softmaxLossNaive function.\n",
    "\n",
    "import time\n",
    "from cs231n.classifiers.softmax import softmaxLossNaive\n",
    "\n",
    "# Generate a random softmax weight matrix and use it to compute the loss.\n",
    "W = np.random.randn(3073, 10) * 0.0001\n",
    "loss, grad = softmaxLossNaive(W, XDev, yDev, 0.0)\n",
    "\n",
    "# As a rough sanity check, our loss should be something close to -log(0.1).\n",
    "print 'loss: %f' % loss\n",
    "print 'sanity check: %f' % (-np.log(0.1))"
   ]
  },
  {
   "cell_type": "markdown",
   "metadata": {},
   "source": [
    "## Inline Question 1:\n",
    "Why do we expect our loss to be close to -log(0.1)? Explain briefly.**\n",
    "\n",
    "**Your answer:** *Fill this in*\n"
   ]
  },
  {
   "cell_type": "code",
   "execution_count": 4,
   "metadata": {},
   "outputs": [
    {
     "name": "stdout",
     "output_type": "stream",
     "text": [
      "numerical: -2.042672 analytic: -2.042672, relative error: 3.816269e-08\n",
      "numerical: 0.860211 analytic: 0.860211, relative error: 2.229066e-08\n",
      "numerical: -1.372124 analytic: -1.372124, relative error: 1.350676e-08\n",
      "numerical: -3.250015 analytic: -3.250015, relative error: 3.085965e-08\n",
      "numerical: 3.427439 analytic: 3.427439, relative error: 8.997449e-09\n",
      "numerical: -0.242302 analytic: -0.242302, relative error: 2.051194e-07\n",
      "numerical: 0.910601 analytic: 0.910601, relative error: 9.277124e-08\n",
      "numerical: 1.973255 analytic: 1.973255, relative error: 3.385111e-08\n",
      "numerical: 2.592944 analytic: 2.592944, relative error: 1.405321e-08\n",
      "numerical: 2.306400 analytic: 2.306400, relative error: 1.618582e-08\n",
      "numerical: -0.784610 analytic: -0.784611, relative error: 5.596885e-08\n",
      "numerical: 1.228298 analytic: 1.228298, relative error: 6.997259e-08\n",
      "numerical: -0.626498 analytic: -0.626498, relative error: 4.870295e-08\n",
      "numerical: 2.584363 analytic: 2.584363, relative error: 5.486799e-10\n",
      "numerical: -0.822212 analytic: -0.822212, relative error: 2.945428e-08\n",
      "numerical: 1.304106 analytic: 1.304106, relative error: 1.802734e-08\n",
      "numerical: 1.548300 analytic: 1.548300, relative error: 3.556015e-08\n",
      "numerical: -1.058551 analytic: -1.058552, relative error: 5.345344e-08\n",
      "numerical: 1.186758 analytic: 1.186758, relative error: 4.354614e-08\n",
      "numerical: -0.373656 analytic: -0.373656, relative error: 1.734587e-07\n"
     ]
    }
   ],
   "source": [
    "# Complete the implementation of softmaxLossNaive and implement a (naive)\n",
    "# version of the gradient that uses nested loops.\n",
    "loss, grad = softmaxLossNaive(W, XDev, yDev, 0.0)\n",
    "\n",
    "# As we did for the SVM, use numeric gradient checking as a debugging tool.\n",
    "# The numeric gradient should be close to the analytic gradient.\n",
    "from cs231n.gradient_check import grad_check_sparse\n",
    "f = lambda w: softmaxLossNaive(w, XDev, yDev, 0.0)[0]\n",
    "gradNumerical = grad_check_sparse(f, W, grad, 10)\n",
    "\n",
    "# similar to SVM case, do another gradient check with regularization\n",
    "loss, grad = softmaxLossNaive(W, XDev, yDev, 1e2)\n",
    "f = lambda w: softmaxLossNaive(w, XDev, yDev, 1e2)[0]\n",
    "gradNumerical = grad_check_sparse(f, W, grad, 10)"
   ]
  },
  {
   "cell_type": "code",
   "execution_count": 5,
   "metadata": {
    "scrolled": false
   },
   "outputs": [
    {
     "name": "stdout",
     "output_type": "stream",
     "text": [
      "numerical: 1.501004 analytic: 1.501004, relative error: 9.271566e-09\n",
      "numerical: 0.052103 analytic: 0.052103, relative error: 8.705745e-07\n",
      "numerical: 2.602680 analytic: 2.602680, relative error: 8.423200e-09\n",
      "numerical: -0.758912 analytic: -0.758913, relative error: 1.090023e-07\n",
      "numerical: 1.731486 analytic: 1.731486, relative error: 1.438413e-08\n",
      "numerical: 0.112983 analytic: 0.112983, relative error: 5.756041e-08\n",
      "numerical: 0.035793 analytic: 0.035793, relative error: 1.132706e-06\n",
      "numerical: 1.203753 analytic: 1.203753, relative error: 6.382906e-09\n",
      "numerical: 3.593814 analytic: 3.593814, relative error: 4.879744e-09\n",
      "numerical: -4.290846 analytic: -4.290846, relative error: 3.851031e-09\n",
      "numerical: 1.084733 analytic: 1.084733, relative error: 2.480092e-09\n",
      "numerical: -0.599559 analytic: -0.599560, relative error: 6.890083e-08\n",
      "numerical: 2.440932 analytic: 2.440932, relative error: 3.338694e-08\n",
      "numerical: -0.854753 analytic: -0.854753, relative error: 5.100353e-08\n",
      "numerical: -0.903524 analytic: -0.903524, relative error: 1.727548e-08\n",
      "numerical: -0.713232 analytic: -0.713232, relative error: 6.372977e-08\n",
      "numerical: -1.607660 analytic: -1.607660, relative error: 1.742718e-08\n",
      "numerical: -0.125899 analytic: -0.125899, relative error: 1.299824e-07\n",
      "numerical: 1.872264 analytic: 1.872264, relative error: 1.056037e-08\n",
      "numerical: 1.341439 analytic: 1.341439, relative error: 1.943665e-10\n"
     ]
    }
   ],
   "source": [
    "from cs231n.classifiers.softmax import softmaxLossVectorized\n",
    "\n",
    "# Complete the implementation of softmax_loss_naive and implement a (naive)\n",
    "# version of the gradient that uses nested loops.\n",
    "loss, grad = softmaxLossVectorized(W, XDev, yDev, 0.0)\n",
    "\n",
    "# As we did for the SVM, use numeric gradient checking as a debugging tool.\n",
    "# The numeric gradient should be close to the analytic gradient.\n",
    "from cs231n.gradient_check import grad_check_sparse\n",
    "f = lambda w: softmaxLossVectorized(w, XDev, yDev, 0.0)[0]\n",
    "gradNumerical = grad_check_sparse(f, W, grad, 10)\n",
    "\n",
    "# similar to SVM case, do another gradient check with regularization\n",
    "loss, grad = softmaxLossVectorized(W, XDev, yDev, 1e2)\n",
    "f = lambda w: softmaxLossVectorized(w, XDev, yDev, 1e2)[0]\n",
    "gradNumerical = grad_check_sparse(f, W, grad, 10)"
   ]
  },
  {
   "cell_type": "code",
   "execution_count": 6,
   "metadata": {},
   "outputs": [
    {
     "name": "stdout",
     "output_type": "stream",
     "text": [
      "naive loss: 2.312610e+00 computed in 0.095823s\n",
      "vectorized loss: 2.312610e+00 computed in 0.006340s\n",
      "Loss difference: 0.000000\n",
      "Gradient difference: 0.000000\n"
     ]
    }
   ],
   "source": [
    "# Now that we have a naive implementation of the softmax loss function and its gradient,\n",
    "# implement a vectorized version in softmaxLossVectorized.\n",
    "# The two versions should compute the same results, but the vectorized version should be\n",
    "# much faster.\n",
    "tic = time.time()\n",
    "lossNaive, gradNaive = softmaxLossNaive(W, XDev, yDev, 0.00001)\n",
    "toc = time.time()\n",
    "print 'naive loss: %e computed in %fs' % (lossNaive, toc - tic)\n",
    "\n",
    "from cs231n.classifiers.softmax import softmaxLossVectorized\n",
    "tic = time.time()\n",
    "lossVectorized, gradVectorized = softmaxLossVectorized(W, XDev, yDev, 0.00001)\n",
    "toc = time.time()\n",
    "print 'vectorized loss: %e computed in %fs' % (lossVectorized, toc - tic)\n",
    "\n",
    "# As we did for the SVM, we use the Frobenius norm to compare the two versions of the gradient.\n",
    "gradDifference = np.linalg.norm(gradNaive - gradVectorized, ord = 'fro')\n",
    "print 'Loss difference: %f' % np.abs(lossNaive - lossVectorized)\n",
    "print 'Gradient difference: %f' % gradDifference"
   ]
  },
  {
   "cell_type": "code",
   "execution_count": 7,
   "metadata": {},
   "outputs": [
    {
     "name": "stdout",
     "output_type": "stream",
     "text": [
      "lr 1.000000e-08 reg 5.000000e+02 train accuracy: 0.145918 val accuracy: 0.155000\n",
      "lr 1.000000e-08 reg 1.000000e+03 train accuracy: 0.131122 val accuracy: 0.136000\n",
      "lr 1.000000e-08 reg 1.000000e+04 train accuracy: 0.140163 val accuracy: 0.130000\n",
      "lr 1.000000e-08 reg 5.000000e+04 train accuracy: 0.148122 val accuracy: 0.147000\n",
      "lr 1.000000e-07 reg 5.000000e+02 train accuracy: 0.233714 val accuracy: 0.262000\n",
      "lr 1.000000e-07 reg 1.000000e+03 train accuracy: 0.241633 val accuracy: 0.229000\n",
      "lr 1.000000e-07 reg 1.000000e+04 train accuracy: 0.285837 val accuracy: 0.303000\n",
      "lr 1.000000e-07 reg 5.000000e+04 train accuracy: 0.331143 val accuracy: 0.348000\n",
      "lr 5.000000e-07 reg 5.000000e+02 train accuracy: 0.315122 val accuracy: 0.330000\n",
      "lr 5.000000e-07 reg 1.000000e+03 train accuracy: 0.336163 val accuracy: 0.325000\n",
      "lr 5.000000e-07 reg 1.000000e+04 train accuracy: 0.368449 val accuracy: 0.376000\n",
      "lr 5.000000e-07 reg 5.000000e+04 train accuracy: 0.315122 val accuracy: 0.332000\n",
      "lr 1.000000e-06 reg 5.000000e+02 train accuracy: 0.357796 val accuracy: 0.365000\n",
      "lr 1.000000e-06 reg 1.000000e+03 train accuracy: 0.378551 val accuracy: 0.378000\n",
      "lr 1.000000e-06 reg 1.000000e+04 train accuracy: 0.369592 val accuracy: 0.380000\n",
      "lr 1.000000e-06 reg 5.000000e+04 train accuracy: 0.317102 val accuracy: 0.332000\n",
      "best validation accuracy achieved during cross-validation: 0.380000\n"
     ]
    }
   ],
   "source": [
    "# Use the validation set to tune hyperparameters (regularization strength and\n",
    "# learning rate). You should experiment with different ranges for the learning\n",
    "# rates and regularization strengths; if you are careful you should be able to\n",
    "# get a classification accuracy of over 0.35 on the validation set.\n",
    "from cs231n.classifiers import Softmax\n",
    "results = {}\n",
    "bestVal = -1\n",
    "bestSoftmax = None\n",
    "\n",
    "learningRates = [1e-8, 1e-7, 5e-7, 1e-6]\n",
    "regularizationStrengths = [5e2, 1e3, 1e4, 5e4]\n",
    "\n",
    "\n",
    "################################################################################\n",
    "# TODO:                                                                        #\n",
    "# Use the validation set to set the learning rate and regularization strength. #\n",
    "# This should be identical to the validation that you did for the SVM; save    #\n",
    "# the best trained softmax classifer in bestSoftmax.                           #\n",
    "################################################################################\n",
    "\n",
    "## Converting the learning rate and regularization strenghts list into numpy arrays.\n",
    "learningRates = np.array(learningRates)\n",
    "regularizationStrengths = np.array(regularizationStrengths)\n",
    "\n",
    "## Creating a grid search array which contains the different hyperparameter combinations.\n",
    "gridArray = np.array(np.meshgrid(learningRates, regularizationStrengths)).T.reshape(16, 2)\n",
    "\n",
    "## Iterating over each hyperparameter combination.\n",
    "for i in range(gridArray.shape[0]):\n",
    "    \n",
    "    ## Setting the learning rate and the regularisation strength.\n",
    "    learningRate = gridArray[i][0]\n",
    "    regularizationStrength = gridArray[i][1]\n",
    "    \n",
    "    ## Instantiating the model.\n",
    "    softmaxModel = Softmax()\n",
    "    \n",
    "    ## Training the model on the training data.\n",
    "    softmaxModel.train(XTrain, yTrain, learningRate = learningRate, reg = regularizationStrength, numIters = 1000)\n",
    "    \n",
    "    ## Training Predictions.\n",
    "    yPredTrain = softmaxModel.predict(XTrain)\n",
    "    \n",
    "    ## Validation Predictions.\n",
    "    yPredValidation = softmaxModel.predict(XVal)\n",
    "    \n",
    "    ## Computing training accuracy.\n",
    "    trainAccuracy = np.mean(yPredTrain == yTrain)\n",
    "    \n",
    "    ## Computing validation accuracy.\n",
    "    validationAccuracy = np.mean(yPredValidation == yVal)\n",
    "    \n",
    "    ## Comparing the current validation accuracy with the previous one.\n",
    "    if (validationAccuracy > bestVal):\n",
    "        \n",
    "        bestVal = validationAccuracy\n",
    "        bestSoftmax = softmaxModel\n",
    "        \n",
    "    results[learningRate, regularizationStrength] = (trainAccuracy, validationAccuracy)\n",
    "\n",
    "    \n",
    "################################################################################\n",
    "#                              END OF YOUR CODE                                #\n",
    "################################################################################\n",
    "    \n",
    "# Print out results.\n",
    "for lr, reg in sorted(results):\n",
    "    trainAccuracy, valAccuracy = results[(lr, reg)]\n",
    "    print 'lr %e reg %e train accuracy: %f val accuracy: %f' % (\n",
    "                lr, reg, trainAccuracy, valAccuracy)\n",
    "    \n",
    "print 'best validation accuracy achieved during cross-validation: %f' % bestVal"
   ]
  },
  {
   "cell_type": "code",
   "execution_count": 8,
   "metadata": {},
   "outputs": [
    {
     "name": "stdout",
     "output_type": "stream",
     "text": [
      "Softmax on raw pixels final test set accuracy: 0.370000\n"
     ]
    }
   ],
   "source": [
    "# evaluate on test set\n",
    "# Evaluate the best softmax on test set\n",
    "yTestPred = bestSoftmax.predict(XTest)\n",
    "testAccuracy = np.mean(yTest == yTestPred)\n",
    "print 'Softmax on raw pixels final test set accuracy: %f' % (testAccuracy, )"
   ]
  },
  {
   "cell_type": "code",
   "execution_count": 9,
   "metadata": {},
   "outputs": [
    {
     "data": {
      "image/png": "[encoded data removed]",
      "text/plain": [
       "<matplotlib.figure.Figure at 0x1102cddd0>"
      ]
     },
     "metadata": {},
     "output_type": "display_data"
    }
   ],
   "source": [
    "## Visualize the learned weights for each class\n",
    "w = bestSoftmax.W[:-1,:] \n",
    "w = w.reshape(32, 32, 3, 10)\n",
    "\n",
    "wMin, wMax = np.min(w), np.max(w)\n",
    "\n",
    "classes = ['plane', 'car', 'bird', 'cat', 'deer', 'dog', 'frog', 'horse', 'ship', 'truck']\n",
    "\n",
    "for i in xrange(10):\n",
    "    plt.subplot(2, 5, i + 1)\n",
    "\n",
    "    # Rescale the weights to be between 0 and 255\n",
    "    wimg = 255.0 * (w[:, :, :, i].squeeze() - wMin) / (wMax - wMin)\n",
    "    plt.imshow(wimg.astype('uint8'))\n",
    "    plt.axis('off')\n",
    "    plt.title(classes[i])"
   ]
  },
  {
   "cell_type": "code",
   "execution_count": null,
   "metadata": {},
   "outputs": [],
   "source": []
  }
 ],
 "metadata": {
  "kernelspec": {
   "display_name": "Python 2",
   "language": "python",
   "name": "python2"
  },
  "language_info": {
   "codemirror_mode": {
    "name": "ipython",
    "version": 2
   },
   "file_extension": ".py",
   "mimetype": "text/x-python",
   "name": "python",
   "nbconvert_exporter": "python",
   "pygments_lexer": "ipython2",
   "version": "2.7.10"
  }
 },
 "nbformat": 4,
 "nbformat_minor": 1
}
