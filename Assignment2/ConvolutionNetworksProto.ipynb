{
 "cells": [
  {
   "cell_type": "code",
   "execution_count": 1,
   "metadata": {},
   "outputs": [],
   "source": [
    "# As usual, a bit of setup\n",
    "\n",
    "import numpy as np\n",
    "import matplotlib.pyplot as plt\n",
    "from cs231n.classifiers.cnn import *\n",
    "from cs231n.data_utils import get_CIFAR10_data\n",
    "from cs231n.gradient_check import eval_numerical_gradient_array, eval_numerical_gradient\n",
    "from cs231n.layers import *\n",
    "from cs231n.fast_layers import *\n",
    "from cs231n.solver import Solver\n",
    "\n",
    "%matplotlib inline\n",
    "plt.rcParams['figure.figsize'] = (10.0, 8.0) # set default size of plots\n",
    "plt.rcParams['image.interpolation'] = 'nearest'\n",
    "plt.rcParams['image.cmap'] = 'gray'\n",
    "\n",
    "# for auto-reloading external modules\n",
    "# see http://stackoverflow.com/questions/1907993/autoreload-of-modules-in-ipython\n",
    "%load_ext autoreload\n",
    "%autoreload 2\n",
    "\n",
    "def rel_error(x, y):\n",
    "  \"\"\" returns relative error \"\"\"\n",
    "  return np.max(np.abs(x - y) / (np.maximum(1e-8, np.abs(x) + np.abs(y))))"
   ]
  },
  {
   "cell_type": "code",
   "execution_count": 2,
   "metadata": {},
   "outputs": [
    {
     "name": "stdout",
     "output_type": "stream",
     "text": [
      "X_val:  (1000, 3, 32, 32)\n",
      "X_train:  (49000, 3, 32, 32)\n",
      "X_test:  (1000, 3, 32, 32)\n",
      "y_val:  (1000,)\n",
      "y_train:  (49000,)\n",
      "y_test:  (1000,)\n"
     ]
    }
   ],
   "source": [
    "# Load the (preprocessed) CIFAR10 data.\n",
    "\n",
    "data = get_CIFAR10_data()\n",
    "for k, v in data.iteritems():\n",
    "  print '%s: ' % k, v.shape"
   ]
  },
  {
   "cell_type": "code",
   "execution_count": 3,
   "metadata": {},
   "outputs": [],
   "source": [
    "x_shape = (2, 3, 4, 4)\n",
    "w_shape = (3, 3, 4, 4)\n",
    "x = np.linspace(-0.1, 0.5, num = np.prod(x_shape)).reshape(x_shape)\n",
    "w = np.linspace(-0.2, 0.3, num = np.prod(w_shape)).reshape(w_shape)\n",
    "b = np.linspace(-0.1, 0.2, num = 3)\n",
    "\n",
    "convParam = {'stride': 2, 'pad': 1}"
   ]
  },
  {
   "cell_type": "code",
   "execution_count": 4,
   "metadata": {},
   "outputs": [
    {
     "data": {
      "text/plain": [
       "(2, 3, 6, 6)"
      ]
     },
     "execution_count": 4,
     "metadata": {},
     "output_type": "execute_result"
    }
   ],
   "source": [
    "## Unpacking the convolutional parameters.\n",
    "stride, padWidth = convParam['stride'], convParam['pad']\n",
    "\n",
    "## Padding the input with zeroes.\n",
    "xPadded = np.pad(x, pad_width = ((0, 0), (0, 0), (padWidth, padWidth), (padWidth, padWidth)), mode = 'constant', constant_values = 0)\n",
    "xPadded.shape"
   ]
  },
  {
   "cell_type": "code",
   "execution_count": 5,
   "metadata": {},
   "outputs": [
    {
     "name": "stdout",
     "output_type": "stream",
     "text": [
      "(2, 3, 2, 2)\n"
     ]
    }
   ],
   "source": [
    "## Defining the input height, width, depth and inputSize.\n",
    "inputHeight = x.shape[-2]\n",
    "inputWidth = x.shape[-1]\n",
    "inputDepth = x.shape[1]\n",
    "inputSize = x.shape[0]\n",
    "\n",
    "## Defining the filter height, width, depth and number of filters.\n",
    "filterHeight = w.shape[-2]\n",
    "filterWidth = w.shape[-1]\n",
    "filerDepth = w.shape[1]\n",
    "numFilters = w.shape[0]\n",
    "\n",
    "## Defining the output height, width and depth.\n",
    "outputHeight = ((inputHeight - filterHeight + 2 * padWidth) / stride + 1)\n",
    "outputWidth = ((inputWidth - filterWidth + 2 * padWidth) / stride + 1)\n",
    "outputDepth = numFilters\n",
    "\n",
    "## Initializing the output activation map.\n",
    "outputActivationMap = np.empty([inputSize, outputDepth, outputWidth, outputHeight])\n",
    "print outputActivationMap.shape"
   ]
  },
  {
   "cell_type": "code",
   "execution_count": 6,
   "metadata": {},
   "outputs": [],
   "source": [
    "## Obtaining the necessary input slices over which\n",
    "## the weight matrices will convolve.\n",
    "for l in range(0, inputSize):\n",
    "\n",
    "    for k in range(0, numFilters):\n",
    "\n",
    "        for i in range(0, outputHeight):\n",
    "\n",
    "            for j in range(0, outputWidth):\n",
    "\n",
    "                ## Obtaining the input slice.\n",
    "                xImageSlice = xPadded[l, :, i * stride : i * stride + filterHeight, j * stride : j * stride + filterWidth]\n",
    "                \n",
    "                ## Performing the dot product of the weight matrix with the image slice.\n",
    "                outputActivationMap[l, k, i, j] = np.sum(xImageSlice * w[k]) + b[k]"
   ]
  },
  {
   "cell_type": "code",
   "execution_count": 7,
   "metadata": {},
   "outputs": [],
   "source": [
    "x = np.random.randn(4, 3, 5, 5)\n",
    "w = np.random.randn(2, 3, 3, 3)\n",
    "b = np.random.randn(2,)\n",
    "dOut = np.random.randn(4, 2, 5, 5)\n",
    "convParam = {'stride': 1, 'pad': 1}"
   ]
  },
  {
   "cell_type": "code",
   "execution_count": 8,
   "metadata": {},
   "outputs": [
    {
     "data": {
      "text/plain": [
       "(4, 3, 7, 7)"
      ]
     },
     "execution_count": 8,
     "metadata": {},
     "output_type": "execute_result"
    }
   ],
   "source": [
    "## Unpacking the convolutional parameters.\n",
    "stride, padWidth = convParam['stride'], convParam['pad']\n",
    "\n",
    "## Padding the input with zeroes.\n",
    "xPadded = np.pad(x, pad_width = ((0, 0), (0, 0), (padWidth, padWidth), (padWidth, padWidth)), mode = 'constant', constant_values = 0)\n",
    "xPadded.shape"
   ]
  },
  {
   "cell_type": "code",
   "execution_count": 9,
   "metadata": {},
   "outputs": [
    {
     "name": "stdout",
     "output_type": "stream",
     "text": [
      "(4, 2, 5, 5)\n"
     ]
    }
   ],
   "source": [
    "## Defining the input height, width, depth and inputSize.\n",
    "inputHeight = x.shape[-2]\n",
    "inputWidth = x.shape[-1]\n",
    "inputDepth = x.shape[1]\n",
    "inputSize = x.shape[0]\n",
    "\n",
    "## Defining the filter height, width, depth and number of filters.\n",
    "filterHeight = w.shape[-2]\n",
    "filterWidth = w.shape[-1]\n",
    "filterDepth = w.shape[1]\n",
    "numFilters = w.shape[0]\n",
    "\n",
    "## Defining the output height, width and depth.\n",
    "outputHeight = ((inputHeight - filterHeight + 2 * padWidth) / stride + 1)\n",
    "outputWidth = ((inputWidth - filterWidth + 2 * padWidth) / stride + 1)\n",
    "outputDepth = numFilters\n",
    "\n",
    "## Initializing the output activation map.\n",
    "outputActivationMap = np.empty([inputSize, outputDepth, outputWidth, outputHeight])\n",
    "print outputActivationMap.shape"
   ]
  },
  {
   "cell_type": "code",
   "execution_count": 10,
   "metadata": {},
   "outputs": [],
   "source": [
    "## Create placeholders for the gradients.\n",
    "dW = np.zeros_like(w)\n",
    "dB = np.zeros_like(b)\n",
    "dX = np.zeros_like(x)\n",
    "dXPadded = np.zeros_like(xPadded)"
   ]
  },
  {
   "cell_type": "code",
   "execution_count": 11,
   "metadata": {},
   "outputs": [
    {
     "name": "stdout",
     "output_type": "stream",
     "text": [
      "(4, 3, 5, 5)\n",
      "(2, 3, 3, 3)\n",
      "(2,)\n",
      "(4, 2, 5, 5)\n"
     ]
    }
   ],
   "source": [
    "print x.shape\n",
    "print w.shape\n",
    "print b.shape\n",
    "print outputActivationMap.shape"
   ]
  },
  {
   "cell_type": "code",
   "execution_count": 13,
   "metadata": {},
   "outputs": [],
   "source": [
    "for n in range(0, inputSize):\n",
    "\n",
    "    for k in range(0, numFilters):\n",
    "        \n",
    "        ## Computing the gradient with respect to biases.\n",
    "        dB[k] += outputActivationMap[n, k].sum()\n",
    "\n",
    "        for i in range(0, outputHeight):\n",
    "\n",
    "            for j in range(0, outputWidth):\n",
    "\n",
    "                ## Obtaining the relevant slice of the input.\n",
    "                xImageSlice = xPadded[n, :, i * stride : i * stride + filterHeight, j * stride : j * stride + filterWidth]\n",
    "                \n",
    "                ## Obtaining the upstream gradient of the corresponding activation map.\n",
    "                dOutUpstream = outputActivationMap[n, k, i, j]\n",
    "                \n",
    "                ## Computing the gradient with respect to the weights.\n",
    "                dW[k] += xImageSlice * dOutUpstream\n",
    "                \n",
    "                ## Computing the gradient with respect to the input.\n",
    "                dXPadded[n, :, i * stride : i * stride + filterHeight, j * stride : j * stride + filterWidth] += w[k] * dOutUpstream\n",
    "            \n",
    "                \n",
    "            \n",
    "                \n",
    "                     \n",
    "                \n",
    "                \n",
    "                \n",
    "                \n",
    "                \n",
    "                \n",
    "                "
   ]
  },
  {
   "cell_type": "code",
   "execution_count": 15,
   "metadata": {},
   "outputs": [],
   "source": [
    "x_shape = (2, 3, 4, 4)\n",
    "x = np.linspace(-0.3, 0.4, num=np.prod(x_shape)).reshape(x_shape)\n",
    "poolParam = {'poolWidth': 2, 'poolHeight': 2, 'stride': 2}"
   ]
  },
  {
   "cell_type": "code",
   "execution_count": 16,
   "metadata": {},
   "outputs": [
    {
     "name": "stdout",
     "output_type": "stream",
     "text": [
      "(2, 3, 2, 2)\n"
     ]
    }
   ],
   "source": [
    "## Defining the input size, depth, height and width.\n",
    "inputSize = x.shape[0]\n",
    "inputDepth = x.shape[1]\n",
    "inputHeight = x.shape[2]\n",
    "inputWidth = x.shape[3]\n",
    "\n",
    "## Unpacking the pooling parameters.\n",
    "poolWidth, poolHeight, poolStride = poolParam['poolWidth'], poolParam['poolHeight'], poolParam['stride']\n",
    "\n",
    "## Defining the output size, depth, height and width.\n",
    "outputSize = x.shape[0]\n",
    "outputDepth = inputDepth\n",
    "outputHeight = ((inputHeight - poolHeight) / poolStride) + 1\n",
    "outputWidth = ((inputWidth - poolWidth) / poolStride) + 1\n",
    "\n",
    "## Initializing the output activation map.\n",
    "outputActivationMap = np.empty([outputSize, outputDepth, outputHeight, outputWidth])\n",
    "print outputActivationMap.shape"
   ]
  },
  {
   "cell_type": "code",
   "execution_count": 22,
   "metadata": {
    "scrolled": true
   },
   "outputs": [
    {
     "name": "stdout",
     "output_type": "stream",
     "text": [
      "(2, 2)\n",
      "(2, 2)\n",
      "(2, 2)\n",
      "(2, 2)\n",
      "(2, 2)\n",
      "(2, 2)\n",
      "(2, 2)\n",
      "(2, 2)\n",
      "(2, 2)\n",
      "(2, 2)\n",
      "(2, 2)\n",
      "(2, 2)\n",
      "(2, 2)\n",
      "(2, 2)\n",
      "(2, 2)\n",
      "(2, 2)\n",
      "(2, 2)\n",
      "(2, 2)\n",
      "(2, 2)\n",
      "(2, 2)\n",
      "(2, 2)\n",
      "(2, 2)\n",
      "(2, 2)\n",
      "(2, 2)\n"
     ]
    }
   ],
   "source": [
    "## Performing the pooling operation.\n",
    "for n in range(0, inputSize):\n",
    "    for k in range(0, outputDepth):\n",
    "        for i in range(0, outputHeight):\n",
    "            for j in range(0, outputWidth):\n",
    "                \n",
    "                ## Obtaining the relevant slice.\n",
    "                xImageSlice = x[n, k, i * poolStride : i * poolStride + poolHeight, j * poolStride : j * poolStride + poolWidth]\n",
    "                    \n",
    "                \n",
    "                ## Filling in the correct values in the output placeholder.\n",
    "                outputActivationMap[n, k, i, j] = np.amax(xImageSlice)\n",
    "                \n",
    "                \n",
    "                \n",
    "                    \n",
    "                    "
   ]
  },
  {
   "cell_type": "code",
   "execution_count": 26,
   "metadata": {},
   "outputs": [
    {
     "name": "stdout",
     "output_type": "stream",
     "text": [
      "(3,)\n",
      "(3,)\n",
      "(3,)\n",
      "(3,)\n",
      "(3,)\n",
      "(3,)\n",
      "(3,)\n",
      "(3,)\n"
     ]
    }
   ],
   "source": [
    "## Performing the pooling operation.\n",
    "for n in range(0, inputSize):\n",
    "    for i in range(0, outputHeight):\n",
    "        for j in range(0, outputWidth):\n",
    "\n",
    "            ## Obtaining the relevant slice.\n",
    "            xImageSlice = x[n, :, i * poolStride : i * poolStride + poolHeight, j * poolStride : j * poolStride + poolWidth]\n",
    "            a = np.amax(xImageSlice, axis=(-1, -2))\n",
    "            print a.shape\n",
    "            \n",
    "\n",
    "\n",
    "            ## Filling in the correct values in the output placeholder.\n",
    "            outputActivationMap[n, k, i, j] = np.amax(xImageSlice)\n",
    "\n",
    "                \n",
    "                \n",
    "                    \n",
    "                    "
   ]
  },
  {
   "cell_type": "code",
   "execution_count": null,
   "metadata": {},
   "outputs": [],
   "source": []
  }
 ],
 "metadata": {
  "kernelspec": {
   "display_name": "Python 2",
   "language": "python",
   "name": "python2"
  },
  "language_info": {
   "codemirror_mode": {
    "name": "ipython",
    "version": 2
   },
   "file_extension": ".py",
   "mimetype": "text/x-python",
   "name": "python",
   "nbconvert_exporter": "python",
   "pygments_lexer": "ipython2",
   "version": "2.7.10"
  }
 },
 "nbformat": 4,
 "nbformat_minor": 2
}
