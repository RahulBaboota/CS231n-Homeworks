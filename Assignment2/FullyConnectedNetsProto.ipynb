{
 "cells": [
  {
   "cell_type": "code",
   "execution_count": 2,
   "metadata": {},
   "outputs": [],
   "source": [
    "# As usual, a bit of setup\n",
    "\n",
    "import time\n",
    "import numpy as np\n",
    "import matplotlib.pyplot as plt\n",
    "from cs231n.classifiers.fc_net import *\n",
    "from cs231n.data_utils import get_CIFAR10_data\n",
    "from cs231n.gradient_check import eval_numerical_gradient, eval_numerical_gradient_array\n",
    "from cs231n.solver import Solver\n",
    "\n",
    "%matplotlib inline\n",
    "plt.rcParams['figure.figsize'] = (10.0, 8.0) # set default size of plots\n",
    "plt.rcParams['image.interpolation'] = 'nearest'\n",
    "plt.rcParams['image.cmap'] = 'gray'\n",
    "\n",
    "# for auto-reloading external modules\n",
    "# see http://stackoverflow.com/questions/1907993/autoreload-of-modules-in-ipython\n",
    "%load_ext autoreload\n",
    "%autoreload 2\n",
    "\n",
    "def rel_error(x, y):\n",
    "  \"\"\" returns relative error \"\"\"\n",
    "  return np.max(np.abs(x - y) / (np.maximum(1e-8, np.abs(x) + np.abs(y))))"
   ]
  },
  {
   "cell_type": "code",
   "execution_count": 3,
   "metadata": {},
   "outputs": [
    {
     "name": "stdout",
     "output_type": "stream",
     "text": [
      "X_val:  (1000, 3, 32, 32)\n",
      "X_train:  (49000, 3, 32, 32)\n",
      "X_test:  (1000, 3, 32, 32)\n",
      "y_val:  (1000,)\n",
      "y_train:  (49000,)\n",
      "y_test:  (1000,)\n"
     ]
    }
   ],
   "source": [
    "# Load the (preprocessed) CIFAR10 data.\n",
    "\n",
    "data = get_CIFAR10_data()\n",
    "for k, v in data.iteritems():\n",
    "  print '%s: ' % k, v.shape"
   ]
  },
  {
   "cell_type": "markdown",
   "metadata": {},
   "source": [
    "<h1><center> Affine Layer (Forward) </center></h1>"
   ]
  },
  {
   "cell_type": "code",
   "execution_count": 4,
   "metadata": {},
   "outputs": [],
   "source": [
    "num_inputs = 2\n",
    "input_shape = (4, 5, 6)\n",
    "output_dim = 3\n",
    "\n",
    "input_size = num_inputs * np.prod(input_shape)\n",
    "weight_size = output_dim * np.prod(input_shape)\n",
    "\n",
    "x = np.linspace(-0.1, 0.5, num=input_size).reshape(num_inputs, *input_shape)\n",
    "W = np.linspace(-0.2, 0.3, num=weight_size).reshape(np.prod(input_shape), output_dim)\n",
    "b = np.linspace(-0.3, 0.1, num=output_dim)"
   ]
  },
  {
   "cell_type": "code",
   "execution_count": 5,
   "metadata": {},
   "outputs": [],
   "source": [
    "## Defining D = d_1 * d_2 * ..... * d_k\n",
    "D = np.prod(np.array(x.shape[1:]))\n",
    "\n",
    "## Reshaping the input vector to dimensions (N * D).\n",
    "x = x.reshape(num_inputs, D)\n",
    "\n",
    "## Performing forward pass of fully connected layer.\n",
    "out = x.dot(W) + b"
   ]
  },
  {
   "cell_type": "markdown",
   "metadata": {},
   "source": [
    "<h1><center> Affine Layer (Backward) </h1></center>"
   ]
  },
  {
   "cell_type": "code",
   "execution_count": 6,
   "metadata": {},
   "outputs": [],
   "source": [
    "x = np.random.randn(10, 2, 3)\n",
    "W = np.random.randn(6, 5)\n",
    "b = np.random.randn(5)\n",
    "dout = np.random.randn(10, 5)\n",
    "\n",
    "dx_num = eval_numerical_gradient_array(lambda x: affine_forward(x, W, b)[0], x, dout)\n",
    "dW_num = eval_numerical_gradient_array(lambda w: affine_forward(x, W, b)[0], W, dout)\n",
    "db_num = eval_numerical_gradient_array(lambda b: affine_forward(x, W, b)[0], b, dout)\n",
    "\n",
    "_, cache = affine_forward(x, W, b)"
   ]
  },
  {
   "cell_type": "code",
   "execution_count": 7,
   "metadata": {},
   "outputs": [],
   "source": [
    "x, W, b = cache\n",
    "\n",
    "## Defining the number of inputs.\n",
    "numInputs = x.shape[0]\n",
    "    \n",
    "## Defining D = d_1 * d_2 * ..... * d_k\n",
    "D = np.prod(np.array(x.shape[1:]))\n",
    "\n",
    "## Making a copy of x for performing vectorized operations.\n",
    "xCopy = np.copy(x)\n",
    "\n",
    "## Computing the derivative wrt Biases.\n",
    "db = np.sum(dout, axis = 0)\n",
    "\n",
    "## Reshaping the input vector to dimensions (N * D).\n",
    "xCopy = xCopy.reshape(numInputs, D)\n",
    "\n",
    "## Computing the derivative wrt Weights.\n",
    "dW = xCopy.T.dot(dout)\n",
    "\n",
    "## Computing the derivative wrt Input.\n",
    "dx = dout.dot(W.T)\n",
    "\n",
    "## Reshaping dx.\n",
    "dx = dx.reshape(x.shape)"
   ]
  },
  {
   "cell_type": "markdown",
   "metadata": {},
   "source": [
    "<h1><center> ReLU Forward </center></h1>"
   ]
  },
  {
   "cell_type": "code",
   "execution_count": 8,
   "metadata": {},
   "outputs": [
    {
     "data": {
      "text/plain": [
       "array([[ 0.        ,  0.        ,  0.        ,  0.        ],\n",
       "       [ 0.        ,  0.        ,  0.04545455,  0.13636364],\n",
       "       [ 0.22727273,  0.31818182,  0.40909091,  0.5       ]])"
      ]
     },
     "execution_count": 8,
     "metadata": {},
     "output_type": "execute_result"
    }
   ],
   "source": [
    "x = np.linspace(-0.5, 0.5, num=12).reshape(3, 4)\n",
    "\n",
    "## Apply the ReLU function -> f : max(0,x).\n",
    "out = np.clip(x, 0, None)"
   ]
  },
  {
   "cell_type": "markdown",
   "metadata": {},
   "source": [
    "<h1><center> ReLU Backward </center></h1>"
   ]
  },
  {
   "cell_type": "code",
   "execution_count": 10,
   "metadata": {},
   "outputs": [
    {
     "data": {
      "text/plain": [
       "0"
      ]
     },
     "execution_count": 10,
     "metadata": {},
     "output_type": "execute_result"
    }
   ],
   "source": [
    "x = np.random.randn(10, 10)\n",
    "dout = np.random.randn(*x.shape)\n",
    "\n",
    "## BackProp through ReLU gate.\n",
    "dout[x <= 0] = 0\n",
    "dx"
   ]
  },
  {
   "cell_type": "code",
   "execution_count": 11,
   "metadata": {},
   "outputs": [
    {
     "data": {
      "text/plain": [
       "array([[ 0.39164295, -0.79769136,  0.28735596,  0.40347591, -0.10815237,\n",
       "        -0.35446383, -0.57378113,  1.01145312, -1.28713829, -0.61616205],\n",
       "       [-0.32359089, -0.2852897 ,  0.69647461,  2.40789562, -0.84624562,\n",
       "        -0.71669625, -1.0242654 , -0.21732616,  1.26398013, -0.2608999 ],\n",
       "       [ 0.90467173,  0.40028064, -1.29081234,  0.94578446, -0.81435546,\n",
       "         2.09873751,  0.86239658,  0.04752972,  0.67315984, -1.70108358],\n",
       "       [ 1.10433971,  0.91914915, -0.73090809,  1.16951822,  0.03076439,\n",
       "        -0.57590263, -0.23044095, -0.4106192 ,  0.94546369,  1.01176449],\n",
       "       [ 0.09124521,  0.07274917,  1.31220899, -0.02525266, -0.49917784,\n",
       "         0.44070472, -0.39562847,  1.55814624,  0.47190073,  0.24475753],\n",
       "       [ 0.95475616, -0.25437232, -1.37066828,  0.9024877 , -0.53680422,\n",
       "         0.67381101, -0.5605206 , -0.26707372,  1.16534415,  0.32356847],\n",
       "       [-0.35576358, -1.10485316,  0.31022024,  1.40305598,  0.50432478,\n",
       "        -1.51177716,  0.51929776, -1.60126071, -0.04614656, -0.57186507],\n",
       "       [-0.46172811,  0.41049417,  1.67490425, -0.73893682,  0.46277502,\n",
       "        -0.72912176, -2.11220351, -0.66531831,  0.9839384 ,  0.26705975],\n",
       "       [-0.67900741, -0.54090473, -0.65751843,  1.24196408,  1.64904437,\n",
       "        -0.04870507, -1.27437583,  1.81236349, -1.53535541,  0.89901539],\n",
       "       [-0.0118516 , -0.63097065, -1.57642823, -1.05042443,  0.16206907,\n",
       "         0.73566572, -0.40644392,  0.17548133,  0.14607182, -0.88077204]])"
      ]
     },
     "execution_count": 11,
     "metadata": {},
     "output_type": "execute_result"
    }
   ],
   "source": [
    "x"
   ]
  },
  {
   "cell_type": "code",
   "execution_count": 12,
   "metadata": {},
   "outputs": [
    {
     "data": {
      "text/plain": [
       "array([[-0.18837948,  0.        ,  0.44918628, -0.53846802,  0.        ,\n",
       "         0.        ,  0.        , -1.18585718,  0.        ,  0.        ],\n",
       "       [ 0.        ,  0.        ,  0.22388673, -1.00279747,  0.        ,\n",
       "         0.        ,  0.        ,  0.        , -0.19097469,  0.        ],\n",
       "       [-0.78067125,  1.43265362,  0.        ,  0.36087784,  0.        ,\n",
       "         0.05604862,  0.77709261, -0.29198096,  1.85855462,  0.        ],\n",
       "       [-2.06313609, -0.20062104,  0.        ,  0.42984789,  1.94284173,\n",
       "         0.        ,  0.        ,  0.        , -0.29507396,  1.3694706 ],\n",
       "       [ 0.44926258,  0.12248105,  0.97456951,  0.        ,  0.        ,\n",
       "        -0.07185405,  0.        ,  0.86855631, -0.24081621, -0.50021633],\n",
       "       [-1.37420825,  0.        ,  0.        ,  1.06609814,  0.        ,\n",
       "        -0.68319251,  0.        ,  0.        ,  0.77295486, -0.78332149],\n",
       "       [ 0.        ,  0.        , -0.23297831,  0.02078079, -1.3964227 ,\n",
       "         0.        ,  0.01481958,  0.        ,  0.        ,  0.        ],\n",
       "       [ 0.        ,  0.0035288 , -0.40680501,  0.        ,  0.0582831 ,\n",
       "         0.        ,  0.        ,  0.        , -0.927801  ,  0.34415471],\n",
       "       [ 0.        ,  0.        ,  0.        ,  1.26216873, -0.23841137,\n",
       "         0.        ,  0.        ,  2.28133174,  0.        ,  0.78956303],\n",
       "       [ 0.        ,  0.        ,  0.        ,  0.        ,  0.50609722,\n",
       "        -0.49654496,  0.        , -1.67515188, -1.03984669,  0.        ]])"
      ]
     },
     "execution_count": 12,
     "metadata": {},
     "output_type": "execute_result"
    }
   ],
   "source": [
    "dout"
   ]
  },
  {
   "cell_type": "code",
   "execution_count": null,
   "metadata": {},
   "outputs": [],
   "source": []
  }
 ],
 "metadata": {
  "kernelspec": {
   "display_name": "Python 2",
   "language": "python",
   "name": "python2"
  },
  "language_info": {
   "codemirror_mode": {
    "name": "ipython",
    "version": 2
   },
   "file_extension": ".py",
   "mimetype": "text/x-python",
   "name": "python",
   "nbconvert_exporter": "python",
   "pygments_lexer": "ipython2",
   "version": "2.7.10"
  }
 },
 "nbformat": 4,
 "nbformat_minor": 2
}
