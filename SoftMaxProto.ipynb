{
 "cells": [
  {
   "cell_type": "code",
   "execution_count": 1,
   "metadata": {
    "collapsed": false
   },
   "outputs": [],
   "source": [
    "import random\n",
    "import numpy as np\n",
    "import matplotlib.pyplot as plt\n",
    "from IPython.display import clear_output\n",
    "from cs231n.data_utils import load_CIFAR10\n",
    "%matplotlib inline\n",
    "plt.rcParams['figure.figsize'] = (10.0, 8.0) # set default size of plots\n",
    "plt.rcParams['image.interpolation'] = 'nearest'\n",
    "plt.rcParams['image.cmap'] = 'gray'\n",
    "\n",
    "# for auto-reloading extenrnal modules\n",
    "# see http://stackoverflow.com/questions/1907993/autoreload-of-modules-in-ipython\n",
    "%load_ext autoreload\n",
    "%autoreload 2"
   ]
  },
  {
   "cell_type": "code",
   "execution_count": 2,
   "metadata": {
    "collapsed": false
   },
   "outputs": [
    {
     "name": "stdout",
     "output_type": "stream",
     "text": [
      "Train data shape:  (49000, 3073)\n",
      "Train labels shape:  (49000,)\n",
      "Validation data shape:  (1000, 3073)\n",
      "Validation labels shape:  (1000,)\n",
      "Test data shape:  (1000, 3073)\n",
      "Test labels shape:  (1000,)\n",
      "dev data shape:  (500, 3073)\n",
      "dev labels shape:  (500,)\n"
     ]
    }
   ],
   "source": [
    "def get_CIFAR10_data(num_training=49000, num_validation=1000, num_test=1000, num_dev=500):\n",
    "    \n",
    "    \"\"\"\n",
    "    Load the CIFAR-10 dataset from disk and perform preprocessing to prepare\n",
    "    it for the linear classifier. These are the same steps as we used for the\n",
    "    SVM, but condensed to a single function.  \n",
    "    \"\"\"\n",
    "    # Load the raw CIFAR-10 data\n",
    "    cifar10_dir = 'cs231n/datasets/cifar-10-batches-py'\n",
    "    X_train, y_train, X_test, y_test = load_CIFAR10(cifar10_dir)\n",
    "\n",
    "    # subsample the data\n",
    "    mask = range(num_training, num_training + num_validation)\n",
    "    X_val = X_train[mask]\n",
    "    y_val = y_train[mask]\n",
    "    mask = range(num_training)\n",
    "    X_train = X_train[mask]\n",
    "    y_train = y_train[mask]\n",
    "    mask = range(num_test)\n",
    "    X_test = X_test[mask]\n",
    "    y_test = y_test[mask]\n",
    "    mask = np.random.choice(num_training, num_dev, replace=False)\n",
    "    X_dev = X_train[mask]\n",
    "    y_dev = y_train[mask]\n",
    "\n",
    "    # Preprocessing: reshape the image data into rows\n",
    "    X_train = np.reshape(X_train, (X_train.shape[0], -1))\n",
    "    X_val = np.reshape(X_val, (X_val.shape[0], -1))\n",
    "    X_test = np.reshape(X_test, (X_test.shape[0], -1))\n",
    "    X_dev = np.reshape(X_dev, (X_dev.shape[0], -1))\n",
    "\n",
    "    # Normalize the data: subtract the mean image\n",
    "    mean_image = np.mean(X_train, axis = 0)\n",
    "    X_train -= mean_image\n",
    "    X_val -= mean_image\n",
    "    X_test -= mean_image\n",
    "    X_dev -= mean_image\n",
    "\n",
    "    # add bias dimension and transform into columns\n",
    "    X_train = np.hstack([X_train, np.ones((X_train.shape[0], 1))])\n",
    "    X_val = np.hstack([X_val, np.ones((X_val.shape[0], 1))])\n",
    "    X_test = np.hstack([X_test, np.ones((X_test.shape[0], 1))])\n",
    "    X_dev = np.hstack([X_dev, np.ones((X_dev.shape[0], 1))])\n",
    "\n",
    "    return X_train, y_train, X_val, y_val, X_test, y_test, X_dev, y_dev\n",
    "\n",
    "\n",
    "# Invoke the above function to get our data.\n",
    "X_train, y_train, X_val, y_val, X_test, y_test, X_dev, y_dev = get_CIFAR10_data()\n",
    "\n",
    "print 'Train data shape: ', X_train.shape\n",
    "print 'Train labels shape: ', y_train.shape\n",
    "print 'Validation data shape: ', X_val.shape\n",
    "print 'Validation labels shape: ', y_val.shape\n",
    "print 'Test data shape: ', X_test.shape\n",
    "print 'Test labels shape: ', y_test.shape\n",
    "print 'dev data shape: ', X_dev.shape\n",
    "print 'dev labels shape: ', y_dev.shape"
   ]
  },
  {
   "cell_type": "markdown",
   "metadata": {},
   "source": [
    "<h1><center> Vectorized Softmax </center></h1>"
   ]
  },
  {
   "cell_type": "code",
   "execution_count": 3,
   "metadata": {
    "collapsed": false
   },
   "outputs": [
    {
     "name": "stdout",
     "output_type": "stream",
     "text": [
      "Weights Matrix Shape :  (3073, 10)\n"
     ]
    }
   ],
   "source": [
    "## Randomly initialising a weight matrix of shape (3073,10).\n",
    "W = np.random.randn(3073, 10) * 0.0001\n",
    "print 'Weights Matrix Shape : ', W.shape"
   ]
  },
  {
   "cell_type": "code",
   "execution_count": 4,
   "metadata": {
    "collapsed": false
   },
   "outputs": [
    {
     "name": "stdout",
     "output_type": "stream",
     "text": [
      "Raw Scores Matrix Shape :  (500, 10)\n"
     ]
    }
   ],
   "source": [
    "## Computing the raw scores or performing the linear mathematical operation Wx + b.\n",
    "scores = X_dev.dot(W)\n",
    "print 'Raw Scores Matrix Shape : ', scores.shape"
   ]
  },
  {
   "cell_type": "code",
   "execution_count": 5,
   "metadata": {
    "collapsed": false
   },
   "outputs": [],
   "source": [
    "## Normalise the raw scores to avoid exponential score blow-up.\n",
    "## To do so, subtract the maximum score from each score value for each image.\n",
    "expScores = np.exp(scores - np.max(scores, axis = 1, keepdims = True))\n",
    "\n",
    "## Compute the probabilities (or softmax scores) of each class.\n",
    "softmaxScores = expScores/np.sum(expScores, axis = 1, keepdims = True)"
   ]
  },
  {
   "cell_type": "code",
   "execution_count": 6,
   "metadata": {
    "collapsed": false
   },
   "outputs": [],
   "source": [
    "## Creating a 1-D matrix containing the softmax score of the correct class.\n",
    "corrSoftScore = np.choose(y_dev, softmaxScores.T)"
   ]
  },
  {
   "cell_type": "code",
   "execution_count": 7,
   "metadata": {
    "collapsed": false
   },
   "outputs": [],
   "source": [
    "## Computing the cross-entropy loss.\n",
    "loss = -np.sum(np.log(corrSoftScore), axis = 0, keepdims = True)"
   ]
  },
  {
   "cell_type": "code",
   "execution_count": 8,
   "metadata": {
    "collapsed": false
   },
   "outputs": [
    {
     "data": {
      "text/plain": [
       "array([[ -1.83780219e+00,  -1.28133835e+00,  -2.61461858e-01, ...,\n",
       "         -8.88552375e-01,  -6.12949262e-01,  -3.18552960e+00],\n",
       "       [ -3.11166620e+00,  -3.43785810e-01,  -2.40751759e-01, ...,\n",
       "         -6.27670871e-01,  -2.03378876e+00,  -3.12600963e+00],\n",
       "       [ -5.15624672e+00,   3.84697937e-01,   8.70261059e-01, ...,\n",
       "         -6.37840270e-01,  -4.11880429e+00,  -3.56071193e+00],\n",
       "       ..., \n",
       "       [ -1.99038785e+00,  -4.05733061e-01,  -7.40336875e-01, ...,\n",
       "         -1.42257267e+00,   3.08154559e+00,  -2.30298340e+00],\n",
       "       [ -3.51350900e+00,  -1.26974336e-01,   1.97448842e-01, ...,\n",
       "         -3.65957137e-01,   8.96716512e-01,  -2.75771577e+00],\n",
       "       [ -2.59267190e-03,  -2.24856703e-02,   1.78566229e-02, ...,\n",
       "          1.21162388e-02,  -1.71504155e-02,   7.02120972e-03]])"
      ]
     },
     "execution_count": 8,
     "metadata": {},
     "output_type": "execute_result"
    }
   ],
   "source": [
    "dW = np.zeros_like(W)\n",
    "\n",
    "## Initialising dO to softmaxScores.\n",
    "dO = softmaxScores\n",
    "\n",
    "## Computing dL/dO.\n",
    "dO[np.arange(500), y_dev] -= 1\n",
    "\n",
    "## Computing dL/dW with the help of chain rule.\n",
    "dW = X_dev.T.dot(dO)\n",
    "\n",
    "## Dividing by the number of training instances.\n",
    "dW /= 500\n",
    "\n",
    "dW"
   ]
  },
  {
   "cell_type": "markdown",
   "metadata": {},
   "source": [
    "<h1><center> Naive Softmax </center></h1>"
   ]
  },
  {
   "cell_type": "code",
   "execution_count": 9,
   "metadata": {
    "collapsed": false
   },
   "outputs": [
    {
     "name": "stdout",
     "output_type": "stream",
     "text": [
      "Weights Matrix Shape :  (3073, 10)\n"
     ]
    }
   ],
   "source": [
    "## Randomly initialising a weight matrix of shape (3073,10).\n",
    "W = np.random.randn(3073, 10) * 0.0001\n",
    "print 'Weights Matrix Shape : ', W.shape"
   ]
  },
  {
   "cell_type": "code",
   "execution_count": 10,
   "metadata": {
    "collapsed": false
   },
   "outputs": [
    {
     "name": "stdout",
     "output_type": "stream",
     "text": [
      "12.0780652802\n"
     ]
    }
   ],
   "source": [
    "## Initialising the gradients matrix.\n",
    "dW = np.zeros_like(W)\n",
    "\n",
    "## Initialising the gradients matrix of the logits i.e. Wx+b.\n",
    "dO = np.zeros_like(scores)\n",
    "\n",
    "## Initialising loss to zero.\n",
    "loss = 0.0\n",
    "\n",
    "## Computing number of training instances.\n",
    "numTrain = X_dev.shape[0]\n",
    "\n",
    "## Computing the number of classes.\n",
    "numClasses = W.shape[1]\n",
    "\n",
    "# for i in range(0, numTrain):\n",
    "for i in range(0, 5):\n",
    "     \n",
    "    ## Computing the raw scores for each image.\n",
    "    imgScoreMat = X_dev[i].dot(W)\n",
    "    \n",
    "    ## Finding the maximum class score in above array.\n",
    "    maxClsScore = np.max(imgScoreMat)\n",
    "    \n",
    "    ## Normalise the raw scores to avoid exponential score blow-up.\n",
    "    ## To do so, subtract the maximum score from each score value for each image.\n",
    "    normScoreMat = imgScoreMat - maxClsScore\n",
    "    \n",
    "    ## Exponentiate the normalised class scores.\n",
    "    expScoreMat = np.exp(normScoreMat)\n",
    "    \n",
    "    ## Computing the sum of all the exponentiated scores.\n",
    "    expScoresSum = np.sum(expScoreMat, axis = 0, keepdims = True)\n",
    "        \n",
    "    ## Compute the probabilities (or softmax scores) of each class.\n",
    "    imgSoftmaxScores = expScoreMat/expScoresSum\n",
    " \n",
    "    ## Finding the softmax score for the correct class.\n",
    "    corrSoftScore = imgSoftmaxScores[y_dev[i]]\n",
    "    \n",
    "    ## Computing the loss for the particular image.\n",
    "    loss = loss + -np.log(corrSoftScore/np.sum(imgSoftmaxScores))\n",
    "    \n",
    "    ## Updating the gradients wrt the logits.\n",
    "    for j in range(0, numClasses):\n",
    "\n",
    "        if (j == y_dev[i]):\n",
    "\n",
    "            dO = imgSoftmaxScores[j] - 1\n",
    "\n",
    "        else:\n",
    "\n",
    "            dO = imgSoftmaxScores[j]\n",
    "        \n",
    "        ## Updating the gradients wrt the weights.\n",
    "        dW[:,j] += dO * X_dev[i]\n",
    "    \n",
    "          \n",
    "print loss"
   ]
  },
  {
   "cell_type": "markdown",
   "metadata": {
    "collapsed": true
   },
   "source": [
    "<h1><center> Tuning HyperParamters </center></h1>"
   ]
  },
  {
   "cell_type": "code",
   "execution_count": null,
   "metadata": {
    "collapsed": true
   },
   "outputs": [],
   "source": []
  }
 ],
 "metadata": {
  "kernelspec": {
   "display_name": "Python 2",
   "language": "python",
   "name": "python2"
  },
  "language_info": {
   "codemirror_mode": {
    "name": "ipython",
    "version": 2
   },
   "file_extension": ".py",
   "mimetype": "text/x-python",
   "name": "python",
   "nbconvert_exporter": "python",
   "pygments_lexer": "ipython2",
   "version": "2.7.10"
  }
 },
 "nbformat": 4,
 "nbformat_minor": 0
}
