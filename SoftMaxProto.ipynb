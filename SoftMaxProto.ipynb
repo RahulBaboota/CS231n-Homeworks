{
 "cells": [
  {
   "cell_type": "code",
   "execution_count": 1,
   "metadata": {
    "collapsed": false
   },
   "outputs": [],
   "source": [
    "import random\n",
    "import numpy as np\n",
    "import matplotlib.pyplot as plt\n",
    "from IPython.display import clear_output\n",
    "from cs231n.data_utils import load_CIFAR10\n",
    "%matplotlib inline\n",
    "plt.rcParams['figure.figsize'] = (10.0, 8.0) # set default size of plots\n",
    "plt.rcParams['image.interpolation'] = 'nearest'\n",
    "plt.rcParams['image.cmap'] = 'gray'\n",
    "\n",
    "# for auto-reloading extenrnal modules\n",
    "# see http://stackoverflow.com/questions/1907993/autoreload-of-modules-in-ipython\n",
    "%load_ext autoreload\n",
    "%autoreload 2"
   ]
  },
  {
   "cell_type": "code",
   "execution_count": 2,
   "metadata": {
    "collapsed": false
   },
   "outputs": [
    {
     "name": "stdout",
     "output_type": "stream",
     "text": [
      "Train data shape:  (49000, 3073)\n",
      "Train labels shape:  (49000,)\n",
      "Validation data shape:  (1000, 3073)\n",
      "Validation labels shape:  (1000,)\n",
      "Test data shape:  (1000, 3073)\n",
      "Test labels shape:  (1000,)\n",
      "dev data shape:  (500, 3073)\n",
      "dev labels shape:  (500,)\n"
     ]
    }
   ],
   "source": [
    "def get_CIFAR10_data(num_training=49000, num_validation=1000, num_test=1000, num_dev=500):\n",
    "    \n",
    "    \"\"\"\n",
    "    Load the CIFAR-10 dataset from disk and perform preprocessing to prepare\n",
    "    it for the linear classifier. These are the same steps as we used for the\n",
    "    SVM, but condensed to a single function.  \n",
    "    \"\"\"\n",
    "    # Load the raw CIFAR-10 data\n",
    "    cifar10_dir = 'cs231n/datasets/cifar-10-batches-py'\n",
    "    X_train, y_train, X_test, y_test = load_CIFAR10(cifar10_dir)\n",
    "\n",
    "    # subsample the data\n",
    "    mask = range(num_training, num_training + num_validation)\n",
    "    X_val = X_train[mask]\n",
    "    y_val = y_train[mask]\n",
    "    mask = range(num_training)\n",
    "    X_train = X_train[mask]\n",
    "    y_train = y_train[mask]\n",
    "    mask = range(num_test)\n",
    "    X_test = X_test[mask]\n",
    "    y_test = y_test[mask]\n",
    "    mask = np.random.choice(num_training, num_dev, replace=False)\n",
    "    X_dev = X_train[mask]\n",
    "    y_dev = y_train[mask]\n",
    "\n",
    "    # Preprocessing: reshape the image data into rows\n",
    "    X_train = np.reshape(X_train, (X_train.shape[0], -1))\n",
    "    X_val = np.reshape(X_val, (X_val.shape[0], -1))\n",
    "    X_test = np.reshape(X_test, (X_test.shape[0], -1))\n",
    "    X_dev = np.reshape(X_dev, (X_dev.shape[0], -1))\n",
    "\n",
    "    # Normalize the data: subtract the mean image\n",
    "    mean_image = np.mean(X_train, axis = 0)\n",
    "    X_train -= mean_image\n",
    "    X_val -= mean_image\n",
    "    X_test -= mean_image\n",
    "    X_dev -= mean_image\n",
    "\n",
    "    # add bias dimension and transform into columns\n",
    "    X_train = np.hstack([X_train, np.ones((X_train.shape[0], 1))])\n",
    "    X_val = np.hstack([X_val, np.ones((X_val.shape[0], 1))])\n",
    "    X_test = np.hstack([X_test, np.ones((X_test.shape[0], 1))])\n",
    "    X_dev = np.hstack([X_dev, np.ones((X_dev.shape[0], 1))])\n",
    "\n",
    "    return X_train, y_train, X_val, y_val, X_test, y_test, X_dev, y_dev\n",
    "\n",
    "\n",
    "# Invoke the above function to get our data.\n",
    "X_train, y_train, X_val, y_val, X_test, y_test, X_dev, y_dev = get_CIFAR10_data()\n",
    "\n",
    "print 'Train data shape: ', X_train.shape\n",
    "print 'Train labels shape: ', y_train.shape\n",
    "print 'Validation data shape: ', X_val.shape\n",
    "print 'Validation labels shape: ', y_val.shape\n",
    "print 'Test data shape: ', X_test.shape\n",
    "print 'Test labels shape: ', y_test.shape\n",
    "print 'dev data shape: ', X_dev.shape\n",
    "print 'dev labels shape: ', y_dev.shape"
   ]
  },
  {
   "cell_type": "markdown",
   "metadata": {},
   "source": [
    "<h1><center> Vectorized Softmax </center></h1>"
   ]
  },
  {
   "cell_type": "code",
   "execution_count": null,
   "metadata": {
    "collapsed": false
   },
   "outputs": [],
   "source": [
    "## Randomly initialising a weight matrix of shape (3073,10).\n",
    "W = np.random.randn(3073, 10) * 0.0001\n",
    "print 'Weights Matrix Shape : ', W.shape"
   ]
  },
  {
   "cell_type": "code",
   "execution_count": null,
   "metadata": {
    "collapsed": false
   },
   "outputs": [],
   "source": [
    "## Computing the raw scores or performing the linear mathematical operation Wx + b.\n",
    "scores = X_train.dot(W)\n",
    "print 'Raw Scores Matrix Shape : ', scores.shape"
   ]
  },
  {
   "cell_type": "code",
   "execution_count": null,
   "metadata": {
    "collapsed": false
   },
   "outputs": [],
   "source": [
    "## Normalise the raw scores to avoid exponential score blow-up.\n",
    "## To do so, subtract the maximum score from each score value for each image.\n",
    "expScores = np.exp(scores - np.max(scores, axis = 1, keepdims = True))\n",
    "\n",
    "## Compute the probabilities (or softmax scores) of each class.\n",
    "softmaxScores = expScores/np.sum(expScores, axis = 1, keepdims = True)"
   ]
  },
  {
   "cell_type": "code",
   "execution_count": null,
   "metadata": {
    "collapsed": false
   },
   "outputs": [],
   "source": [
    "## Creating a 1-D matrix containing the softmax score of the correct class.\n",
    "corrSoftScore = np.choose(y_train, softmaxScores.T)"
   ]
  },
  {
   "cell_type": "code",
   "execution_count": null,
   "metadata": {
    "collapsed": false
   },
   "outputs": [],
   "source": [
    "## Computing the cross-entropy loss.\n",
    "loss = -np.sum(np.log(corrSoftScore), axis = 0, keepdims = True)\n",
    "loss"
   ]
  },
  {
   "cell_type": "markdown",
   "metadata": {},
   "source": [
    "<h1><center> Naive Softmax </center></h1>"
   ]
  },
  {
   "cell_type": "code",
   "execution_count": 3,
   "metadata": {
    "collapsed": false
   },
   "outputs": [
    {
     "name": "stdout",
     "output_type": "stream",
     "text": [
      "Weights Matrix Shape :  (3073, 10)\n"
     ]
    }
   ],
   "source": [
    "## Randomly initialising a weight matrix of shape (3073,10).\n",
    "W = np.random.randn(3073, 10) * 0.0001\n",
    "print 'Weights Matrix Shape : ', W.shape"
   ]
  },
  {
   "cell_type": "code",
   "execution_count": 4,
   "metadata": {
    "collapsed": false
   },
   "outputs": [
    {
     "name": "stdout",
     "output_type": "stream",
     "text": [
      "Raw Scores Matrix Shape :  (500, 10)\n"
     ]
    }
   ],
   "source": [
    "## Computing the raw scores or performing the linear mathematical operation Wx + b.\n",
    "scores = X_dev.dot(W)\n",
    "print 'Raw Scores Matrix Shape : ', scores.shape"
   ]
  },
  {
   "cell_type": "code",
   "execution_count": 18,
   "metadata": {
    "collapsed": false
   },
   "outputs": [
    {
     "ename": "ValueError",
     "evalue": "could not broadcast input array from shape (3073,10) into shape (10)",
     "output_type": "error",
     "traceback": [
      "\u001b[0;31m---------------------------------------------------------------------------\u001b[0m",
      "\u001b[0;31mValueError\u001b[0m                                Traceback (most recent call last)",
      "\u001b[0;32m<ipython-input-18-e34694e85142>\u001b[0m in \u001b[0;36m<module>\u001b[0;34m()\u001b[0m\n\u001b[1;32m     47\u001b[0m \u001b[0;34m\u001b[0m\u001b[0m\n\u001b[1;32m     48\u001b[0m     \u001b[0;31m## Updating the gradients wrt the weights via chain rule.\u001b[0m\u001b[0;34m\u001b[0m\u001b[0;34m\u001b[0m\u001b[0m\n\u001b[0;32m---> 49\u001b[0;31m     \u001b[0mdW\u001b[0m\u001b[0;34m[\u001b[0m\u001b[0mi\u001b[0m\u001b[0;34m]\u001b[0m \u001b[0;34m=\u001b[0m \u001b[0mX_modified\u001b[0m\u001b[0;34m.\u001b[0m\u001b[0mdot\u001b[0m\u001b[0;34m(\u001b[0m\u001b[0mO_modified\u001b[0m\u001b[0;34m)\u001b[0m\u001b[0;34m\u001b[0m\u001b[0m\n\u001b[0m\u001b[1;32m     50\u001b[0m \u001b[0;34m\u001b[0m\u001b[0m\n\u001b[1;32m     51\u001b[0m \u001b[0;34m\u001b[0m\u001b[0m\n",
      "\u001b[0;31mValueError\u001b[0m: could not broadcast input array from shape (3073,10) into shape (10)"
     ]
    }
   ],
   "source": [
    "## Initialising the gradients matrix.\n",
    "dW = np.zeros_like(W)\n",
    "\n",
    "## Initialising the gradients matrix of the logits i.e. Wx+b.\n",
    "dO = np.zeros_like(scores)\n",
    "\n",
    "## Initialising loss to zero.\n",
    "loss = 0.0\n",
    "\n",
    "## Computing number of training instances.\n",
    "numTrain = X_dev.shape[0]\n",
    "\n",
    "# for i in range(0, numTrain):\n",
    "for i in range(0, 1):\n",
    "    \n",
    "    ## Accessing the scores array for each image.\n",
    "    imgScoreMat = scores[i]\n",
    "    \n",
    "    ## Finding the maximum class score in above array.\n",
    "    maxClsScore = np.max(imgScoreMat)\n",
    "    \n",
    "    ## Normalise the raw scores to avoid exponential score blow-up.\n",
    "    ## To do so, subtract the maximum score from each score value for each image.\n",
    "    normScoreMat = imgScoreMat - maxClsScore\n",
    "    \n",
    "    ## Exponentiate the normalised class scores.\n",
    "    expScoreMat = np.exp(normScoreMat)\n",
    "    \n",
    "    ## Computing the sum of all the exponentiated scores.\n",
    "    expScoresSum = np.sum(expScoreMat, axis = 0, keepdims = True)\n",
    "        \n",
    "    ## Compute the probabilities (or softmax scores) of each class.\n",
    "    imgSoftmaxScores = expScoreMat/expScoresSum\n",
    " \n",
    "    ## Finding the softmax score for the correct class.\n",
    "    corrSoftScore = imgSoftmaxScores[y_dev[i]]\n",
    "    \n",
    "    ## Computing the loss for the particular image.\n",
    "    loss = loss + -np.log(corrSoftScore/np.sum(imgSoftmaxScores))\n",
    "    \n",
    "    ## Updating the gradients wrt the logits.\n",
    "    dO[i] = imgSoftmaxScores - y_dev[i]\n",
    "    \n",
    "    ## Reshaping the vectors.\n",
    "    X_modified = X_dev[i].reshape(3073,1)\n",
    "    O_modified = dO[i].reshape(1,10)\n",
    "    \n",
    "    ## Updating the gradients wrt the weights via chain rule.\n",
    "    dW[i] = X_modified.dot(O_modified)\n",
    "    \n",
    "       \n",
    "print loss"
   ]
  },
  {
   "cell_type": "code",
   "execution_count": 21,
   "metadata": {
    "collapsed": false
   },
   "outputs": [],
   "source": [
    "X_modified = X_dev[i].reshape(3073,1)\n",
    "\n",
    "X_modified.shape\n",
    "\n",
    "O_modified = dO[i].reshape(1,10)\n"
   ]
  },
  {
   "cell_type": "code",
   "execution_count": 16,
   "metadata": {
    "collapsed": false
   },
   "outputs": [
    {
     "data": {
      "text/plain": [
       "(10,)"
      ]
     },
     "execution_count": 16,
     "metadata": {},
     "output_type": "execute_result"
    }
   ],
   "source": [
    "# X_dev[0].shape\n",
    "dO[i].shape"
   ]
  },
  {
   "cell_type": "code",
   "execution_count": 22,
   "metadata": {
    "collapsed": false
   },
   "outputs": [
    {
     "data": {
      "text/plain": [
       "(10,)"
      ]
     },
     "execution_count": 22,
     "metadata": {},
     "output_type": "execute_result"
    }
   ],
   "source": [
    "dW[0].shape"
   ]
  },
  {
   "cell_type": "code",
   "execution_count": null,
   "metadata": {
    "collapsed": true
   },
   "outputs": [],
   "source": []
  }
 ],
 "metadata": {
  "kernelspec": {
   "display_name": "Python 2",
   "language": "python",
   "name": "python2"
  },
  "language_info": {
   "codemirror_mode": {
    "name": "ipython",
    "version": 2
   },
   "file_extension": ".py",
   "mimetype": "text/x-python",
   "name": "python",
   "nbconvert_exporter": "python",
   "pygments_lexer": "ipython2",
   "version": "2.7.10"
  }
 },
 "nbformat": 4,
 "nbformat_minor": 0
}
