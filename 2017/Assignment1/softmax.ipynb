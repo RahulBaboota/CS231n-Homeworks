{
 "cells": [
  {
   "cell_type": "markdown",
   "metadata": {},
   "source": [
    "# Softmax exercise\n",
    "\n",
    "*Complete and hand in this completed worksheet (including its outputs and any supporting code outside of the worksheet) with your assignment submission. For more details see the [assignments page](http://vision.stanford.edu/teaching/cs231n/assignments.html) on the course website.*\n",
    "\n",
    "This exercise is analogous to the SVM exercise. You will:\n",
    "\n",
    "- implement a fully-vectorized **loss function** for the Softmax classifier\n",
    "- implement the fully-vectorized expression for its **analytic gradient**\n",
    "- **check your implementation** with numerical gradient\n",
    "- use a validation set to **tune the learning rate and regularization** strength\n",
    "- **optimize** the loss function with **SGD**\n",
    "- **visualize** the final learned weights\n"
   ]
  },
  {
   "cell_type": "code",
   "execution_count": 1,
   "metadata": {},
   "outputs": [],
   "source": [
    "from __future__ import print_function\n",
    "\n",
    "import random\n",
    "import numpy as np\n",
    "import matplotlib.pyplot as plt\n",
    "from cs231n.data_utils import load_CIFAR10\n",
    "%matplotlib inline\n",
    "plt.rcParams['image.cmap'] = 'gray'\n",
    "plt.rcParams['figure.figsize'] = (10.0, 8.0) \n",
    "plt.rcParams['image.interpolation'] = 'nearest'\n",
    "\n",
    "# for auto-reloading extenrnal modules\n",
    "# see http://stackoverflow.com/questions/1907993/autoreload-of-modules-in-ipython\n",
    "%load_ext autoreload\n",
    "%autoreload 2"
   ]
  },
  {
   "cell_type": "code",
   "execution_count": 2,
   "metadata": {},
   "outputs": [
    {
     "name": "stdout",
     "output_type": "stream",
     "text": [
      "Train data shape:  (49000, 3073)\n",
      "Train labels shape:  (49000,)\n",
      "Validation data shape:  (1000, 3073)\n",
      "Validation labels shape:  (1000,)\n",
      "Test data shape:  (1000, 3073)\n",
      "Test labels shape:  (1000,)\n",
      "dev data shape:  (500, 3073)\n",
      "dev labels shape:  (500,)\n"
     ]
    }
   ],
   "source": [
    "def getCIFAR10Data(numTraining = 49000, numValidation = 1000, numTest = 1000, numDev = 500):\n",
    "    \"\"\"\n",
    "    Load the CIFAR-10 dataset from disk and perform preprocessing to prepare\n",
    "    it for the linear classifier. These are the same steps as we used for the\n",
    "    SVM, but condensed to a single function.  \n",
    "    \"\"\"\n",
    "    # Load the raw CIFAR-10 data\n",
    "    cifar10Dir = 'cs231n/datasets/cifar-10-batches-py'\n",
    "    XTrain, yTrain, XTest, yTest = load_CIFAR10(cifar10Dir)\n",
    "\n",
    "    # subsample the data\n",
    "    mask = range(numTraining, numTraining + numValidation)\n",
    "    XVal = XTrain[mask]\n",
    "    yVal = yTrain[mask]\n",
    "    mask = range(numTraining)\n",
    "    XTrain = XTrain[mask]\n",
    "    yTrain = yTrain[mask]\n",
    "    mask = range(numTest)\n",
    "    XTest = XTest[mask]\n",
    "    yTest = yTest[mask]\n",
    "    mask = np.random.choice(numTraining, numDev, replace = False)\n",
    "    XDev = XTrain[mask]\n",
    "    yDev = yTrain[mask]\n",
    "\n",
    "    # Preprocessing: reshape the image data into rows\n",
    "    XTrain = np.reshape(XTrain, (XTrain.shape[0], -1))\n",
    "    XVal = np.reshape(XVal, (XVal.shape[0], -1))\n",
    "    XTest = np.reshape(XTest, (XTest.shape[0], -1))\n",
    "    XDev = np.reshape(XDev, (XDev.shape[0], -1))\n",
    "\n",
    "    # Normalize the data: subtract the mean image\n",
    "    meanImage = np.mean(XTrain, axis = 0)\n",
    "    XTrain -= meanImage\n",
    "    XVal -= meanImage\n",
    "    XTest -= meanImage\n",
    "    XDev -= meanImage\n",
    "\n",
    "    # add bias dimension and transform into columns\n",
    "    XTrain = np.hstack([XTrain, np.ones((XTrain.shape[0], 1))])\n",
    "    XVal = np.hstack([XVal, np.ones((XVal.shape[0], 1))])\n",
    "    XTest = np.hstack([XTest, np.ones((XTest.shape[0], 1))])\n",
    "    XDev = np.hstack([XDev, np.ones((XDev.shape[0], 1))])\n",
    "\n",
    "    return XTrain, yTrain, XVal, yVal, XTest, yTest, XDev, yDev\n",
    "\n",
    "\n",
    "# Invoke the above function to get our data.\n",
    "XTrain, yTrain, XVal, yVal, XTest, yTest, XDev, yDev = getCIFAR10Data()\n",
    "print('Train data shape: ', XTrain.shape)\n",
    "print('Train labels shape: ', yTrain.shape)\n",
    "print('Validation data shape: ', XVal.shape)\n",
    "print('Validation labels shape: ', yVal.shape)\n",
    "print('Test data shape: ', XTest.shape)\n",
    "print('Test labels shape: ', yTest.shape)\n",
    "print('dev data shape: ', XDev.shape)\n",
    "print('dev labels shape: ', yDev.shape)"
   ]
  },
  {
   "cell_type": "markdown",
   "metadata": {},
   "source": [
    "## Softmax Classifier\n",
    "\n",
    "Your code for this section will all be written inside **cs231n/classifiers/softmax.py**. \n"
   ]
  },
  {
   "cell_type": "code",
   "execution_count": 3,
   "metadata": {},
   "outputs": [
    {
     "name": "stdout",
     "output_type": "stream",
     "text": [
      "loss: 2.376040\n",
      "sanity check: 2.302585\n"
     ]
    }
   ],
   "source": [
    "# First implement the naive softmax loss function with nested loops.\n",
    "# Open the file cs231n/classifiers/softmax.py and implement the\n",
    "# softmaxLossNaive function.\n",
    "\n",
    "import time\n",
    "from cs231n.classifiers.softmax import softmaxLossNaive\n",
    "\n",
    "# Generate a random softmax weight matrix and use it to compute the loss.\n",
    "W = np.random.randn(3073, 10) * 0.0001\n",
    "loss, grad = softmaxLossNaive(W, XDev, yDev, 0.0)\n",
    "\n",
    "# As a rough sanity check, our loss should be something close to -log(0.1).\n",
    "print('loss: %f' % loss)\n",
    "print('sanity check: %f' % (-np.log(0.1)))"
   ]
  },
  {
   "cell_type": "markdown",
   "metadata": {},
   "source": [
    "## Inline Question 1:\n",
    "Why do we expect our loss to be close to -log(0.1)? Explain briefly.**\n",
    "\n",
    "**Your answer:** *Fill this in*\n"
   ]
  },
  {
   "cell_type": "code",
   "execution_count": 4,
   "metadata": {},
   "outputs": [
    {
     "name": "stdout",
     "output_type": "stream",
     "text": [
      "numerical: -3.488291 analytic: -3.488291, relative error: 1.372416e-08\n",
      "numerical: -4.163022 analytic: -4.163022, relative error: 3.846564e-09\n",
      "numerical: -3.147927 analytic: -3.147927, relative error: 1.293018e-09\n",
      "numerical: 1.160977 analytic: 1.160977, relative error: 2.559386e-08\n",
      "numerical: 1.952518 analytic: 1.952517, relative error: 4.005452e-08\n",
      "numerical: 1.105831 analytic: 1.105831, relative error: 6.596845e-09\n",
      "numerical: -0.339476 analytic: -0.339476, relative error: 3.536029e-09\n",
      "numerical: -0.631969 analytic: -0.631969, relative error: 6.505832e-08\n",
      "numerical: -4.362532 analytic: -4.362532, relative error: 6.939640e-09\n",
      "numerical: -1.268686 analytic: -1.268686, relative error: 2.328614e-08\n",
      "numerical: 1.856829 analytic: 1.856828, relative error: 5.169268e-08\n",
      "numerical: -0.475671 analytic: -0.475671, relative error: 2.457321e-09\n",
      "numerical: 2.438341 analytic: 2.438341, relative error: 4.053997e-10\n",
      "numerical: 2.101727 analytic: 2.101727, relative error: 2.120228e-08\n",
      "numerical: 0.981995 analytic: 0.981995, relative error: 1.971863e-08\n",
      "numerical: -1.688997 analytic: -1.688997, relative error: 4.483461e-09\n",
      "numerical: 1.823690 analytic: 1.823690, relative error: 1.136985e-08\n",
      "numerical: -0.359614 analytic: -0.359614, relative error: 6.406433e-08\n",
      "numerical: 0.754545 analytic: 0.754545, relative error: 9.101441e-08\n",
      "numerical: -1.014078 analytic: -1.014078, relative error: 9.393125e-09\n"
     ]
    }
   ],
   "source": [
    "# Complete the implementation of softmaxLossNaive and implement a (naive)\n",
    "# version of the gradient that uses nested loops.\n",
    "loss, grad = softmaxLossNaive(W, XDev, yDev, 0.0)\n",
    "\n",
    "# As we did for the SVM, use numeric gradient checking as a debugging tool.\n",
    "# The numeric gradient should be close to the analytic gradient.\n",
    "from cs231n.gradient_check import grad_check_sparse\n",
    "f = lambda w: softmaxLossNaive(w, XDev, yDev, 0.0)[0]\n",
    "gradNumerical = grad_check_sparse(f, W, grad, 10)\n",
    "\n",
    "# similar to SVM case, do another gradient check with regularization\n",
    "loss, grad = softmaxLossNaive(W, XDev, yDev, 1e2)\n",
    "f = lambda w: softmaxLossNaive(w, XDev, yDev, 1e2)[0]\n",
    "gradNumerical = grad_check_sparse(f, W, grad, 10)"
   ]
  },
  {
   "cell_type": "code",
   "execution_count": 5,
   "metadata": {},
   "outputs": [
    {
     "name": "stdout",
     "output_type": "stream",
     "text": [
      "numerical: 1.245866 analytic: 1.245866, relative error: 2.814769e-08\n",
      "numerical: -0.895932 analytic: -0.895932, relative error: 8.464219e-09\n",
      "numerical: 0.237035 analytic: 0.237035, relative error: 2.029442e-09\n",
      "numerical: -0.252858 analytic: -0.252858, relative error: 1.958018e-07\n",
      "numerical: 0.543924 analytic: 0.543924, relative error: 1.105324e-07\n",
      "numerical: 0.751809 analytic: 0.751809, relative error: 5.444228e-08\n",
      "numerical: 3.231521 analytic: 3.231521, relative error: 2.157306e-11\n",
      "numerical: 0.444735 analytic: 0.444735, relative error: 3.117898e-08\n",
      "numerical: -0.567676 analytic: -0.567676, relative error: 3.608478e-08\n",
      "numerical: -2.134691 analytic: -2.134691, relative error: 1.042626e-08\n",
      "numerical: -0.247437 analytic: -0.247437, relative error: 1.847324e-08\n",
      "numerical: 0.476913 analytic: 0.476913, relative error: 4.859043e-08\n",
      "numerical: 0.009438 analytic: 0.009438, relative error: 1.792852e-06\n",
      "numerical: -3.086891 analytic: -3.086891, relative error: 3.962550e-09\n",
      "numerical: 0.881317 analytic: 0.881317, relative error: 3.969462e-08\n",
      "numerical: 2.294293 analytic: 2.294293, relative error: 9.617486e-09\n",
      "numerical: -0.142702 analytic: -0.142702, relative error: 8.117990e-08\n",
      "numerical: 0.161550 analytic: 0.161550, relative error: 2.054254e-07\n",
      "numerical: -1.446342 analytic: -1.446342, relative error: 2.041737e-08\n",
      "numerical: 3.313575 analytic: 3.313575, relative error: 1.191341e-08\n"
     ]
    }
   ],
   "source": [
    "from cs231n.classifiers.softmax import softmaxLossVectorized\n",
    "\n",
    "# Complete the implementation of softmax_loss_naive and implement a (naive)\n",
    "# version of the gradient that uses nested loops.\n",
    "loss, grad = softmaxLossVectorized(W, XDev, yDev, 0.0)\n",
    "\n",
    "# As we did for the SVM, use numeric gradient checking as a debugging tool.\n",
    "# The numeric gradient should be close to the analytic gradient.\n",
    "from cs231n.gradient_check import grad_check_sparse\n",
    "f = lambda w: softmaxLossVectorized(w, XDev, yDev, 0.0)[0]\n",
    "gradNumerical = grad_check_sparse(f, W, grad, 10)\n",
    "\n",
    "# similar to SVM case, do another gradient check with regularization\n",
    "loss, grad = softmaxLossVectorized(W, XDev, yDev, 1e2)\n",
    "f = lambda w: softmaxLossVectorized(w, XDev, yDev, 1e2)[0]\n",
    "gradNumerical = grad_check_sparse(f, W, grad, 10)"
   ]
  },
  {
   "cell_type": "code",
   "execution_count": 6,
   "metadata": {},
   "outputs": [
    {
     "name": "stdout",
     "output_type": "stream",
     "text": [
      "lr 1.000000e-08 reg 5.000000e+02 train accuracy: 0.130673 val accuracy: 0.133000\n",
      "lr 1.000000e-08 reg 1.000000e+03 train accuracy: 0.153694 val accuracy: 0.157000\n",
      "lr 1.000000e-08 reg 1.000000e+04 train accuracy: 0.144449 val accuracy: 0.132000\n",
      "lr 1.000000e-08 reg 5.000000e+04 train accuracy: 0.147918 val accuracy: 0.157000\n",
      "lr 1.000000e-07 reg 5.000000e+02 train accuracy: 0.226408 val accuracy: 0.248000\n",
      "lr 1.000000e-07 reg 1.000000e+03 train accuracy: 0.236265 val accuracy: 0.237000\n",
      "lr 1.000000e-07 reg 1.000000e+04 train accuracy: 0.288347 val accuracy: 0.299000\n",
      "lr 1.000000e-07 reg 5.000000e+04 train accuracy: 0.328184 val accuracy: 0.343000\n",
      "lr 5.000000e-07 reg 5.000000e+02 train accuracy: 0.318796 val accuracy: 0.307000\n",
      "lr 5.000000e-07 reg 1.000000e+03 train accuracy: 0.335755 val accuracy: 0.325000\n",
      "lr 5.000000e-07 reg 1.000000e+04 train accuracy: 0.374571 val accuracy: 0.386000\n",
      "lr 5.000000e-07 reg 5.000000e+04 train accuracy: 0.330449 val accuracy: 0.344000\n",
      "lr 1.000000e-06 reg 5.000000e+02 train accuracy: 0.361980 val accuracy: 0.345000\n",
      "lr 1.000000e-06 reg 1.000000e+03 train accuracy: 0.383755 val accuracy: 0.372000\n",
      "lr 1.000000e-06 reg 1.000000e+04 train accuracy: 0.361612 val accuracy: 0.382000\n",
      "lr 1.000000e-06 reg 5.000000e+04 train accuracy: 0.329245 val accuracy: 0.330000\n",
      "best validation accuracy achieved during cross-validation: 0.386000\n"
     ]
    }
   ],
   "source": [
    "# Use the validation set to tune hyperparameters (regularization strength and\n",
    "# learning rate). You should experiment with different ranges for the learning\n",
    "# rates and regularization strengths; if you are careful you should be able to\n",
    "# get a classification accuracy of over 0.35 on the validation set.\n",
    "from cs231n.classifiers import Softmax\n",
    "results = {}\n",
    "bestVal = -1\n",
    "bestSoftmax = None\n",
    "\n",
    "learningRates = [1e-8, 1e-7, 5e-7, 1e-6]\n",
    "regularizationStrengths = [5e2, 1e3, 1e4, 5e4]\n",
    "\n",
    "\n",
    "################################################################################\n",
    "# TODO:                                                                        #\n",
    "# Use the validation set to set the learning rate and regularization strength. #\n",
    "# This should be identical to the validation that you did for the SVM; save    #\n",
    "# the best trained softmax classifer in bestSoftmax.                           #\n",
    "################################################################################\n",
    "\n",
    "## Converting the learning rate and regularization strenghts list into numpy arrays.\n",
    "learningRates = np.array(learningRates)\n",
    "regularizationStrengths = np.array(regularizationStrengths)\n",
    "\n",
    "## Creating a grid search array which contains the different hyperparameter combinations.\n",
    "gridArray = np.array(np.meshgrid(learningRates, regularizationStrengths)).T.reshape(16, 2)\n",
    "\n",
    "## Iterating over each hyperparameter combination.\n",
    "for i in range(gridArray.shape[0]):\n",
    "    \n",
    "    ## Setting the learning rate and the regularisation strength.\n",
    "    learningRate = gridArray[i][0]\n",
    "    regularizationStrength = gridArray[i][1]\n",
    "    \n",
    "    ## Instantiating the model.\n",
    "    softmaxModel = Softmax()\n",
    "    \n",
    "    ## Training the model on the training data.\n",
    "    softmaxModel.train(XTrain, yTrain, learningRate = learningRate, reg = regularizationStrength, numIters = 1000)\n",
    "    \n",
    "    ## Training Predictions.\n",
    "    yPredTrain = softmaxModel.predict(XTrain)\n",
    "    \n",
    "    ## Validation Predictions.\n",
    "    yPredValidation = softmaxModel.predict(XVal)\n",
    "    \n",
    "    ## Computing training accuracy.\n",
    "    trainAccuracy = np.mean(yPredTrain == yTrain)\n",
    "    \n",
    "    ## Computing validation accuracy.\n",
    "    validationAccuracy = np.mean(yPredValidation == yVal)\n",
    "    \n",
    "    ## Comparing the current validation accuracy with the previous one.\n",
    "    if (validationAccuracy > bestVal):\n",
    "        \n",
    "        bestVal = validationAccuracy\n",
    "        bestSoftmax = softmaxModel\n",
    "        \n",
    "    results[learningRate, regularizationStrength] = (trainAccuracy, validationAccuracy)\n",
    "\n",
    "    \n",
    "################################################################################\n",
    "#                              END OF YOUR CODE                                #\n",
    "################################################################################\n",
    "    \n",
    "# Print out results.\n",
    "for lr, reg in sorted(results):\n",
    "    trainAccuracy, valAccuracy = results[(lr, reg)]\n",
    "    print('lr %e reg %e train accuracy: %f val accuracy: %f' % (\n",
    "                lr, reg, trainAccuracy, valAccuracy))\n",
    "    \n",
    "print('best validation accuracy achieved during cross-validation: %f' % bestVal)"
   ]
  },
  {
   "cell_type": "code",
   "execution_count": 7,
   "metadata": {},
   "outputs": [
    {
     "name": "stdout",
     "output_type": "stream",
     "text": [
      "Softmax on raw pixels final test set accuracy: 0.375000\n"
     ]
    }
   ],
   "source": [
    "# evaluate on test set\n",
    "# Evaluate the best softmax on test set\n",
    "yTestPred = bestSoftmax.predict(XTest)\n",
    "testAccuracy = np.mean(yTest == yTestPred)\n",
    "print('Softmax on raw pixels final test set accuracy: %f' % (testAccuracy, ))"
   ]
  },
  {
   "cell_type": "code",
   "execution_count": 8,
   "metadata": {},
   "outputs": [
    {
     "data": {
      "image/png": "[encoded data removed]",
      "text/plain": [
       "<Figure size 432x288 with 10 Axes>"
      ]
     },
     "metadata": {
      "needs_background": "light"
     },
     "output_type": "display_data"
    }
   ],
   "source": [
    "## Visualize the learned weights for each class\n",
    "w = bestSoftmax.W[:-1,:] \n",
    "w = w.reshape(32, 32, 3, 10)\n",
    "\n",
    "wMin, wMax = np.min(w), np.max(w)\n",
    "\n",
    "classes = ['plane', 'car', 'bird', 'cat', 'deer', 'dog', 'frog', 'horse', 'ship', 'truck']\n",
    "\n",
    "for i in range(10):\n",
    "    plt.subplot(2, 5, i + 1)\n",
    "\n",
    "    # Rescale the weights to be between 0 and 255\n",
    "    wimg = 255.0 * (w[:, :, :, i].squeeze() - wMin) / (wMax - wMin)\n",
    "    plt.imshow(wimg.astype('uint8'))\n",
    "    plt.axis('off')\n",
    "    plt.title(classes[i])"
   ]
  },
  {
   "cell_type": "code",
   "execution_count": null,
   "metadata": {},
   "outputs": [],
   "source": []
  }
 ],
 "metadata": {
  "kernelspec": {
   "display_name": "Python 2",
   "language": "python",
   "name": "python2"
  },
  "language_info": {
   "codemirror_mode": {
    "name": "ipython",
    "version": 3
   },
   "file_extension": ".py",
   "mimetype": "text/x-python",
   "name": "python",
   "nbconvert_exporter": "python",
   "pygments_lexer": "ipython3",
   "version": "3.7.3"
  }
 },
 "nbformat": 4,
 "nbformat_minor": 1
}
